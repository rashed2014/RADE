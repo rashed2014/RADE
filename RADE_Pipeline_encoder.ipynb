{
 "cells": [
  {
   "cell_type": "markdown",
   "metadata": {
    "application/vnd.databricks.v1+cell": {
     "cellMetadata": {
      "byteLimit": 2048000,
      "rowLimit": 10000
     },
     "inputWidgets": {},
     "nuid": "64534bee-ea0f-4289-9fbb-041278d36b01",
     "showTitle": false,
     "tableResultSettingsMap": {},
     "title": ""
    }
   },
   "source": [
    "# 🧠 RADE: Retriever-Augmented Document Entity Extraction\n",
    "\n",
    "**Note: this leverages in-memory encoding/searching and does not require Faiss GPU install. However, a GPU machine may be required**\n",
    "\n",
    "This notebook demonstrates how to extract information from trust documents using the **RADE** pipeline.  \n",
    "Each query retrieves relevant chunks using **ColBERT**, then:\n",
    "- Runs a **QA model** (RoBERTa) to extract precise answers\n",
    "- Uses **GLiNER** for entity extraction tied to each query\n",
    "\n",
    "***\n",
    "## Section 1:\n",
    "\n",
    "This section demonstrates how to use the **RADE** (Retriever-Augmented Document Entity Extraction) system for parsing and encoding an unstructured pdf documents in memory. This is an alternative to the FAISS indexinf approach. Please note, due to the in memory encoding, document numbers and sizes need to be limited\n",
    "\n",
    "RADE integrates:\n",
    "- **ColBERT** for semantic retrieval\n",
    "- **Azure Document Intelligence** for document parsing (PDFs & scanned pages)\n",
    "\n",
    "---\n",
    "\n",
    "## 🗂️ Steps:\n",
    "1. **Initialize RADE** with model names and Azure credentials\n",
    "2. **Add a document** (PDF) — scanned or digital\n",
    "3. **Build the ColBERT encodings in memory**\n",
    "4. **Retrieve top-k relevant pages**\n"
   ]
  },
  {
   "cell_type": "markdown",
   "metadata": {
    "application/vnd.databricks.v1+cell": {
     "cellMetadata": {
      "byteLimit": 2048000,
      "rowLimit": 10000
     },
     "inputWidgets": {},
     "nuid": "c18e53c3-6b63-4492-b978-fbe6766285ff",
     "showTitle": false,
     "tableResultSettingsMap": {},
     "title": ""
    }
   },
   "source": [
    "### 🔧 Step 1 – Initialize RADE"
   ]
  },
  {
   "cell_type": "code",
   "execution_count": 0,
   "metadata": {
    "application/vnd.databricks.v1+cell": {
     "cellMetadata": {
      "byteLimit": 2048000,
      "rowLimit": 10000
     },
     "inputWidgets": {},
     "nuid": "f13de98b-b28c-4f9b-8644-d0294d4af8fc",
     "showTitle": false,
     "tableResultSettingsMap": {},
     "title": ""
    }
   },
   "outputs": [],
   "source": [
    "#initialize\n",
    "from rade import RADE  # assuming you saved it as rade.py\n",
    "rade = RADE()\n"
   ]
  },
  {
   "cell_type": "markdown",
   "metadata": {
    "application/vnd.databricks.v1+cell": {
     "cellMetadata": {
      "byteLimit": 2048000,
      "rowLimit": 10000
     },
     "inputWidgets": {},
     "nuid": "30fd204a-cd1c-4f77-b441-9dea68ce0211",
     "showTitle": false,
     "tableResultSettingsMap": {},
     "title": ""
    }
   },
   "source": [
    "## 📄 Step 2 – Add a PDF Document"
   ]
  },
  {
   "cell_type": "code",
   "execution_count": 0,
   "metadata": {
    "application/vnd.databricks.v1+cell": {
     "cellMetadata": {
      "byteLimit": 2048000,
      "rowLimit": 10000
     },
     "inputWidgets": {},
     "nuid": "91521948-923c-437d-ba74-90caa9e7261a",
     "showTitle": false,
     "tableResultSettingsMap": {},
     "title": ""
    }
   },
   "outputs": [],
   "source": [
    "# ✅ Define additional QA Queries\n",
    "\n",
    "pdf_path = \"/Workspace/Users/morashed@hdinhfdic.onmicrosoft.com/RADE/data/living-trust-forms-03_Ileana Hardison Rev Family Trust DTD 05052010.pdf.crdownload\"\n",
    "\n",
    "rade.add_document(pdf_path, 1)"
   ]
  },
  {
   "cell_type": "markdown",
   "metadata": {
    "application/vnd.databricks.v1+cell": {
     "cellMetadata": {
      "byteLimit": 2048000,
      "rowLimit": 10000
     },
     "inputWidgets": {},
     "nuid": "e4fa300a-b07e-4687-a788-fea656810802",
     "showTitle": false,
     "tableResultSettingsMap": {},
     "title": ""
    }
   },
   "source": [
    "📚 Step 3 – encode the document in memory"
   ]
  },
  {
   "cell_type": "code",
   "execution_count": 0,
   "metadata": {
    "application/vnd.databricks.v1+cell": {
     "cellMetadata": {
      "byteLimit": 2048000,
      "rowLimit": 10000
     },
     "inputWidgets": {},
     "nuid": "da50406a-113a-494b-bd9f-2a5d638575c8",
     "showTitle": false,
     "tableResultSettingsMap": {},
     "title": ""
    }
   },
   "outputs": [],
   "source": [
    "rade.encode_docuemnt()"
   ]
  },
  {
   "cell_type": "markdown",
   "metadata": {
    "application/vnd.databricks.v1+cell": {
     "cellMetadata": {
      "byteLimit": 2048000,
      "rowLimit": 10000
     },
     "inputWidgets": {},
     "nuid": "f837ca37-5f40-481b-8110-cecd498479cc",
     "showTitle": false,
     "tableResultSettingsMap": {},
     "title": ""
    }
   },
   "source": [
    "🔍 Step 4 – Retrieve Top-k Pages for a Query"
   ]
  },
  {
   "cell_type": "code",
   "execution_count": 0,
   "metadata": {
    "application/vnd.databricks.v1+cell": {
     "cellMetadata": {
      "byteLimit": 2048000,
      "rowLimit": 10000
     },
     "inputWidgets": {},
     "nuid": "2378d8ac-6add-46d4-8ad5-d8c2fad9692e",
     "showTitle": false,
     "tableResultSettingsMap": {},
     "title": ""
    }
   },
   "outputs": [],
   "source": []
  },
  {
   "cell_type": "code",
   "execution_count": 0,
   "metadata": {
    "application/vnd.databricks.v1+cell": {
     "cellMetadata": {
      "byteLimit": 2048000,
      "rowLimit": 10000
     },
     "inputWidgets": {},
     "nuid": "10e65be4-1bed-420f-beba-84c90c21ef04",
     "showTitle": false,
     "tableResultSettingsMap": {},
     "title": ""
    }
   },
   "outputs": [],
   "source": [
    "results = rade.search_encoded_docs([\"Who are the grantors\"], k=3)\n",
    "for idx, r in enumerate(results):\n",
    "    print(f\"📄 Result #{idx} \\n Page {r.page.page_num} | Score: {r.score:.2f} | DocName: {r.page.doc_name}\")\n",
    "    print(r.page.text)\n",
    "\n",
    "#Call clear after every run\n",
    "# rade.retrieval_model.clear_encoded_docs()"
   ]
  },
  {
   "cell_type": "code",
   "execution_count": 0,
   "metadata": {
    "application/vnd.databricks.v1+cell": {
     "cellMetadata": {
      "byteLimit": 2048000,
      "rowLimit": 10000
     },
     "inputWidgets": {},
     "nuid": "0464597b-bada-4623-a034-c3865e51446d",
     "showTitle": false,
     "tableResultSettingsMap": {},
     "title": ""
    }
   },
   "outputs": [],
   "source": [
    "results[1]"
   ]
  },
  {
   "cell_type": "markdown",
   "metadata": {
    "application/vnd.databricks.v1+cell": {
     "cellMetadata": {},
     "inputWidgets": {},
     "nuid": "c7620089-1099-4a5c-a508-f01ae1840f85",
     "showTitle": false,
     "tableResultSettingsMap": {},
     "title": ""
    }
   },
   "source": [
    "---"
   ]
  },
  {
   "cell_type": "markdown",
   "metadata": {
    "application/vnd.databricks.v1+cell": {
     "cellMetadata": {},
     "inputWidgets": {},
     "nuid": "f3d2d76b-0554-45ca-b03a-e971206232de",
     "showTitle": false,
     "tableResultSettingsMap": {},
     "title": ""
    }
   },
   "source": [
    "## Section 2 🔍 RADE Trust Document Analyzer -  Entity and QA Extraction from Trust Documents\n",
    "\n",
    "This section supports:\n",
    "- Named Entity Recognition (NER) using GLiNER for labeled entity queries\n",
    "- Question Answering (QA) using RoBERTa for direct questions\n",
    "\n",
    "Each result:\n",
    "- Retrieves top-k chunks via ColBERT\n",
    "- Runs either QA or NER based on the query type\n",
    "- Presents results interactively using arrows to flip through top passages\n",
    "\n"
   ]
  },
  {
   "cell_type": "markdown",
   "metadata": {
    "application/vnd.databricks.v1+cell": {
     "cellMetadata": {},
     "inputWidgets": {},
     "nuid": "9feec434-f538-4586-9c81-62cf015b3b16",
     "showTitle": false,
     "tableResultSettingsMap": {},
     "title": ""
    }
   },
   "source": [
    "### Step1 🧩 – Define Query-to-Label Mapping\n",
    "\n",
    "Use the schema as below:\n",
    "\n",
    "```python\n",
    "{\n",
    "  \"Who are the Grantors?\": {\n",
    "    \"type\": \"ner\",\n",
    "    \"labels\": [\"Grantor\", \"Settlor\"]\n",
    "  },\n",
    "  \"Who are the Trustees?\": {\n",
    "    \"type\": \"ner\",\n",
    "    \"labels\": [\"Primary Trustee\", \"Trustee\"]\n",
    "  },\n",
    "  \"Who are the Successor Trustees?\": {\n",
    "    \"type\": \"ner\",\n",
    "    \"labels\": [\"Successor Trustee\"]\n",
    "  },\n",
    "  \"Who are the Beneficiaries?\": {\n",
    "    \"type\": \"ner\",\n",
    "    \"labels\": [\"Primary Beneficiary\", \"Beneficiary\", \"Residuary Beneficiary\"]\n",
    "  },\n",
    "  \"Who are the Successor Beneficiaries?\": {\n",
    "    \"type\": \"ner\",\n",
    "    \"labels\": [\"Successor Beneficiary\", \"Secondary Beneficiary\"]\n",
    "  },\n",
    "  \"What is the name of the trust?\": {\n",
    "    \"type\": \"qa\",\n",
    "    \"labels\": []\n",
    "  },\n",
    "  \"What is the date of the trust?\": {\n",
    "    \"type\": \"qa\",\n",
    "    \"labels\": []\n",
    "  },\n",
    "  \"Is this trust revocable or irrevocable?\": {\n",
    "    \"type\": \"qa\",\n",
    "    \"labels\": []\n",
    "  }\n",
    "}\n"
   ]
  },
  {
   "cell_type": "code",
   "execution_count": 0,
   "metadata": {
    "application/vnd.databricks.v1+cell": {
     "cellMetadata": {
      "byteLimit": 2048000,
      "rowLimit": 10000
     },
     "inputWidgets": {},
     "nuid": "04617ce6-bade-48aa-8886-c6ef456afaf0",
     "showTitle": false,
     "tableResultSettingsMap": {},
     "title": ""
    }
   },
   "outputs": [],
   "source": [
    "#read query file\n",
    "import json\n",
    "query_file = \"data/query_plan.json\"\n",
    "with open(query_file, \"r\") as j:\n",
    "    query_plan = json.load(j)\n"
   ]
  },
  {
   "cell_type": "code",
   "execution_count": 0,
   "metadata": {
    "application/vnd.databricks.v1+cell": {
     "cellMetadata": {
      "byteLimit": 2048000,
      "rowLimit": 10000
     },
     "inputWidgets": {},
     "nuid": "93052973-4e8f-42bf-a544-5f05bca748ce",
     "showTitle": false,
     "tableResultSettingsMap": {},
     "title": ""
    }
   },
   "outputs": [],
   "source": [
    "#function to use RADE extractive model\n",
    "def extract_entities_per_page(rade, retrieved_pages, labels):\n",
    "    page_entities = {}\n",
    "\n",
    "    for rp in retrieved_pages:\n",
    "        text = rp.page.text.replace(\"\\n\", \" \")\n",
    "        entities = rade.entity_extraction_model.predict_entities(text, labels)\n",
    "        key = f\"{rp.page.doc_name}_page{rp.page.page_num}\"\n",
    "        page_entities[key] = entities\n",
    "\n",
    "    return page_entities\n"
   ]
  },
  {
   "cell_type": "markdown",
   "metadata": {
    "application/vnd.databricks.v1+cell": {
     "cellMetadata": {},
     "inputWidgets": {},
     "nuid": "1034fe83-857d-4289-b11a-b7197a70b09e",
     "showTitle": false,
     "tableResultSettingsMap": {},
     "title": ""
    }
   },
   "source": [
    "## 🧠 Step 2 – Run RADE: Parse + Index + Query"
   ]
  },
  {
   "cell_type": "code",
   "execution_count": 0,
   "metadata": {
    "application/vnd.databricks.v1+cell": {
     "cellMetadata": {
      "byteLimit": 2048000,
      "rowLimit": 10000
     },
     "inputWidgets": {},
     "nuid": "662a17fc-9468-4a2d-89c9-37cfe0978abe",
     "showTitle": false,
     "tableResultSettingsMap": {},
     "title": ""
    }
   },
   "outputs": [],
   "source": [
    "#Run queries and following NER and QA pipelines with Rade\n",
    "query_results = []\n",
    "\n",
    "for query, meta in query_plan.items():\n",
    "    retrieved = rade.search_encoded_docs([query], 3)\n",
    "\n",
    "    if meta[\"type\"] == \"qa\":\n",
    "        qa_result = rade.run_qa_pipeline(\n",
    "            question=query,\n",
    "            retrieved_texts=[\n",
    "                {\n",
    "                    \"content\": rp.page.text,\n",
    "                    \"document_metadata\": {\n",
    "                        \"document\": rp.page.doc_name,\n",
    "                        \"page\": rp.page.page_num\n",
    "                    }\n",
    "                } for rp in retrieved\n",
    "            ]\n",
    "        )\n",
    "        query_results.append({\n",
    "            \"query\": query,\n",
    "            \"type\": \"qa\",\n",
    "            \"labels\": [],\n",
    "            \"results\": retrieved,\n",
    "            \"qa\": qa_result,\n",
    "            \"entities\": {}\n",
    "        })\n",
    "\n",
    "    elif meta[\"type\"] == \"ner\":\n",
    "        retrieved_texts = [\n",
    "            {\n",
    "                \"content\": rp.page.text,\n",
    "                \"document_metadata\": {\n",
    "                    \"document\": rp.page.doc_name,\n",
    "                    \"page\": rp.page.page_num\n",
    "                }\n",
    "            } for rp in retrieved\n",
    "        ]\n",
    "\n",
    "        entity_result = rade.extract_entities_with_gliner(\n",
    "            retrieved_texts=retrieved_texts,\n",
    "            labels=meta[\"labels\"],\n",
    "            threshold=0.3\n",
    "        )\n",
    "\n",
    "        query_results.append({\n",
    "            \"query\": query,\n",
    "            \"type\": \"ner\",\n",
    "            \"labels\": meta[\"labels\"],\n",
    "            \"results\": retrieved,\n",
    "            \"qa\": None,\n",
    "            \"entities\": {\n",
    "                f\"{r['document']}_page{r['page']}\": [\n",
    "                    e for e in entity_result[\"entities\"]\n",
    "                    if e in entity_result[\"entities\"]\n",
    "                ]\n",
    "                for r in entity_result[\"retrieved\"]\n",
    "            }\n",
    "        })\n"
   ]
  },
  {
   "cell_type": "markdown",
   "metadata": {
    "application/vnd.databricks.v1+cell": {
     "cellMetadata": {},
     "inputWidgets": {},
     "nuid": "976491d0-bb88-4a61-a824-3342a6577ef8",
     "showTitle": false,
     "tableResultSettingsMap": {},
     "title": ""
    }
   },
   "source": [
    "## Step 3 - Visualize"
   ]
  },
  {
   "cell_type": "code",
   "execution_count": 0,
   "metadata": {
    "application/vnd.databricks.v1+cell": {
     "cellMetadata": {
      "byteLimit": 2048000,
      "rowLimit": 10000
     },
     "inputWidgets": {},
     "nuid": "4b2454f2-1a4b-44eb-9e93-ee30f59949a6",
     "showTitle": false,
     "tableResultSettingsMap": {},
     "title": ""
    }
   },
   "outputs": [],
   "source": [
    "import html\n",
    "import ipywidgets as widgets\n",
    "from IPython.display import display, Markdown, HTML, clear_output\n",
    "\n",
    "def highlight_entities(text: str, entities: list, highlight_answer: str = None) -> str:\n",
    "    \"\"\"\n",
    "    Highlight QA answer and NER entities using bright yellow <mark>.\n",
    "    \"\"\"\n",
    "    text = html.escape(text)\n",
    "\n",
    "    # Highlight QA answer (first)\n",
    "    if highlight_answer:\n",
    "        safe_answer = html.escape(highlight_answer.strip())\n",
    "        if safe_answer and safe_answer in text:\n",
    "            text = text.replace(\n",
    "                safe_answer,\n",
    "                f'<mark style=\"background-color:yellow\" title=\"QA Answer\">{safe_answer}</mark>'\n",
    "            )\n",
    "\n",
    "    # Highlight NER entities\n",
    "    entities = sorted(entities, key=lambda e: -len(e['text']))\n",
    "    for ent in entities:\n",
    "        safe_text = html.escape(ent[\"text\"])\n",
    "        label = html.escape(ent[\"label\"])\n",
    "        score = ent.get(\"score\", None)\n",
    "        tooltip = f\"{label}\" + (f\" ({score:.2f})\" if score else \"\")\n",
    "        text = text.replace(\n",
    "            safe_text,\n",
    "            f'<mark style=\"background-color:yellow\" title=\"{tooltip}\">{safe_text}</mark>'\n",
    "        )\n",
    "\n",
    "    return text\n",
    "\n",
    "\n",
    "def show_query_results(query_result: dict):\n",
    "    query = query_result[\"query\"]\n",
    "    query_type = query_result[\"type\"]\n",
    "    pages = query_result[\"results\"]\n",
    "    entity_map = query_result[\"entities\"]\n",
    "    qa = query_result[\"qa\"]\n",
    "\n",
    "    index = widgets.IntText(value=0, layout=widgets.Layout(width=\"40px\"), disabled=True)\n",
    "    output = widgets.Output()\n",
    "\n",
    "    prev_button = widgets.Button(description=\"◀️ Prev\", layout=widgets.Layout(width=\"80px\"))\n",
    "    next_button = widgets.Button(description=\"Next ▶️\", layout=widgets.Layout(width=\"80px\"))\n",
    "    nav_box = widgets.HBox([prev_button, index, next_button])\n",
    "\n",
    "    def render_page(i):\n",
    "        with output:\n",
    "            clear_output(wait=True)\n",
    "            page = pages[i].page\n",
    "            score = pages[i].score\n",
    "            key = f\"{page.doc_name}_page{page.page_num}\"\n",
    "            ents = entity_map.get(key, []) if query_type == \"ner\" else []\n",
    "\n",
    "            display(Markdown(f\"## 🔎 Query: `{query}`\"))\n",
    "\n",
    "            if query_type == \"qa\":\n",
    "                answer = qa.get(\"answer\", \"[No answer]\")\n",
    "                display(Markdown(f\"### 🤖 QA Answer: `{answer}`\"))\n",
    "            else:\n",
    "                answer = None  # Not used\n",
    "\n",
    "            display(Markdown(f\"**📄 Page {page.page_num} — Score: `{score:.2f}` — File: `{page.doc_name}`**\"))\n",
    "\n",
    "            highlighted_text = highlight_entities(\n",
    "                text=page.text[:3000],\n",
    "                entities=ents,\n",
    "                highlight_answer=answer\n",
    "            )\n",
    "\n",
    "            display(HTML(f\"<pre style='line-height:1.5;font-family:monospace'>{highlighted_text}</pre>\"))\n",
    "\n",
    "    def on_prev_clicked(_):\n",
    "        if index.value > 0:\n",
    "            index.value -= 1\n",
    "            render_page(index.value)\n",
    "\n",
    "    def on_next_clicked(_):\n",
    "        if index.value < len(pages) - 1:\n",
    "            index.value += 1\n",
    "            render_page(index.value)\n",
    "\n",
    "    prev_button.on_click(on_prev_clicked)\n",
    "    next_button.on_click(on_next_clicked)\n",
    "\n",
    "    display(nav_box, output)\n",
    "    render_page(index.value)\n"
   ]
  },
  {
   "cell_type": "code",
   "execution_count": 0,
   "metadata": {
    "application/vnd.databricks.v1+cell": {
     "cellMetadata": {
      "byteLimit": 2048000,
      "rowLimit": 10000
     },
     "inputWidgets": {},
     "nuid": "517533dd-cd27-43e5-9100-94ed5baac093",
     "showTitle": false,
     "tableResultSettingsMap": {},
     "title": ""
    }
   },
   "outputs": [],
   "source": [
    "for result in query_results:\n",
    "    show_query_results(result)\n",
    "\n"
   ]
  }
 ],
 "metadata": {
  "application/vnd.databricks.v1+notebook": {
   "computePreferences": null,
   "dashboards": [],
   "environmentMetadata": null,
   "inputWidgetPreferences": null,
   "language": "python",
   "notebookMetadata": {
    "mostRecentlyExecutedCommandWithImplicitDF": {
     "commandId": 6817041263733074,
     "dataframes": [
      "_sqldf"
     ]
    },
    "pythonIndentUnit": 4
   },
   "notebookName": "RADE_Pipeline_encoder",
   "widgets": {}
  },
  "kernelspec": {
   "display_name": "Python 3 (ipykernel)",
   "language": "python",
   "name": "python3"
  },
  "language_info": {
   "name": "python"
  }
 },
 "nbformat": 4,
 "nbformat_minor": 0
}
