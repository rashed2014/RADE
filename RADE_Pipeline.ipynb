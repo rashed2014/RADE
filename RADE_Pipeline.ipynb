{
 "cells": [
  {
   "cell_type": "markdown",
   "metadata": {
    "application/vnd.databricks.v1+cell": {
     "cellMetadata": {},
     "inputWidgets": {},
     "nuid": "b94f2a53-96bf-4c78-8b87-9b243957ee29",
     "showTitle": false,
     "tableResultSettingsMap": {},
     "title": ""
    }
   },
   "source": [
    "# 🧠 RADE: Retriever-Augmented Document Entity Extraction\n",
    "\n",
    "**Note: FAISS GPU install is needed for this notebook.**\n",
    "\n",
    "This notebook demonstrates how to extract information from trust documents using the **RADE** pipeline.  \n",
    "Each query retrieves relevant chunks using **ColBERT**, then:\n",
    "- Runs a **QA model** (RoBERTa) to extract precise answers\n",
    "- Uses **GLiNER** for entity extraction tied to each query\n",
    "\n",
    "***\n",
    "## Section 1:\n",
    "\n",
    "This section demonstrates how to use the **RADE** (Retriever-Augmented Document Entity Extraction) system for parsing and indexing an unstructured pdf documents\n",
    "\n",
    "RADE integrates:\n",
    "- **ColBERT** for semantic retrieval\n",
    "- **Azure Document Intelligence** for document parsing (PDFs & scanned pages)\n",
    "\n",
    "---\n",
    "\n",
    "## 🗂️ Steps:\n",
    "1. **Initialize RADE** with model names and Azure credentials\n",
    "2. **Add a document** (PDF) — scanned or digital\n",
    "3. **Build the ColBERT index**\n",
    "4. **Retrieve top-k relevant pages**\n"
   ]
  },
  {
   "cell_type": "code",
   "execution_count": 11,
   "metadata": {
    "application/vnd.databricks.v1+cell": {
     "cellMetadata": {
      "byteLimit": 2048000,
      "rowLimit": 10000
     },
     "inputWidgets": {},
     "nuid": "c1c9791a-bb5f-4d7e-b86e-02d3bd7aa289",
     "showTitle": false,
     "tableResultSettingsMap": {},
     "title": ""
    }
   },
   "outputs": [],
   "source": [
    "#required imports\n",
    "import sys\n",
    "from rade import RADE, RetrievedPage, DocumentPage\n",
    "from dotenv import load_dotenv\n",
    "import json\n",
    "import os"
   ]
  },
  {
   "cell_type": "markdown",
   "metadata": {
    "application/vnd.databricks.v1+cell": {
     "cellMetadata": {},
     "inputWidgets": {},
     "nuid": "730590f6-8eff-4b10-9415-29076bc83067",
     "showTitle": false,
     "tableResultSettingsMap": {},
     "title": ""
    }
   },
   "source": [
    "### 🔧 Step 1 – Initialize RADE"
   ]
  },
  {
   "cell_type": "code",
   "execution_count": 2,
   "metadata": {},
   "outputs": [],
   "source": [
    "#obtain azure doc intel keys and endpoint\n",
    "load_dotenv() #must be called to load Azure doc intel keys\n",
    "key = os.environ.get(\"DOC_INTEL_Key\")\n",
    "endpoint = os.environ.get(\"DOC_INTEL_ENDPOINT\")\n",
    "if not key or not key.strip():\n",
    "    raise ValueError(\"❌ Initialization failed: 'key' must not be empty.\")\n",
    "if not endpoint or not endpoint.strip():\n",
    "    raise ValueError(\"❌ Initialization failed: 'endpoint' must not be empty.\")"
   ]
  },
  {
   "cell_type": "code",
   "execution_count": 3,
   "metadata": {
    "application/vnd.databricks.v1+cell": {
     "cellMetadata": {},
     "inputWidgets": {},
     "nuid": "c794411c-53c2-4f3a-a737-150ead7ba883",
     "showTitle": false,
     "tableResultSettingsMap": {},
     "title": ""
    }
   },
   "outputs": [
    {
     "name": "stdout",
     "output_type": "stream",
     "text": [
      "Using device map: {'retrieval': 'cuda', 'qa': 'cuda'}\n",
      "Initializing retrieval model...\n"
     ]
    },
    {
     "name": "stderr",
     "output_type": "stream",
     "text": [
      "/opt/conda/lib/python3.11/site-packages/colbert/utils/amp.py:12: FutureWarning: `torch.cuda.amp.GradScaler(args...)` is deprecated. Please use `torch.amp.GradScaler('cuda', args...)` instead.\n",
      "  self.scaler = torch.cuda.amp.GradScaler()\n"
     ]
    },
    {
     "name": "stdout",
     "output_type": "stream",
     "text": [
      "Initializing QA model and entity extraction models...\n"
     ]
    },
    {
     "data": {
      "application/vnd.jupyter.widget-view+json": {
       "model_id": "87143edc4ced47f38dc3397018be2c16",
       "version_major": 2,
       "version_minor": 0
      },
      "text/plain": [
       "Fetching 10 files:   0%|          | 0/10 [00:00<?, ?it/s]"
      ]
     },
     "metadata": {},
     "output_type": "display_data"
    },
    {
     "name": "stdout",
     "output_type": "stream",
     "text": [
      "Models initialized successfully!\n"
     ]
    }
   ],
   "source": [
    "#initialize\n",
    "rade = RADE(doc_int_key=key, doc_int_endpoint=endpoint)"
   ]
  },
  {
   "cell_type": "markdown",
   "metadata": {
    "application/vnd.databricks.v1+cell": {
     "cellMetadata": {},
     "inputWidgets": {},
     "nuid": "580e4de6-88fa-465b-a0ce-88063214ea08",
     "showTitle": false,
     "tableResultSettingsMap": {},
     "title": ""
    }
   },
   "source": [
    "## 📄 Step 2 – Add a PDF Document"
   ]
  },
  {
   "cell_type": "code",
   "execution_count": 4,
   "metadata": {
    "application/vnd.databricks.v1+cell": {
     "cellMetadata": {},
     "inputWidgets": {},
     "nuid": "558f92e6-ceb0-495b-a210-a3c90aa04e46",
     "showTitle": false,
     "tableResultSettingsMap": {},
     "title": ""
    }
   },
   "outputs": [
    {
     "name": "stdout",
     "output_type": "stream",
     "text": [
      "📄 Loading document: 1\n"
     ]
    }
   ],
   "source": [
    "# ✅ Define additional QA Queries\n",
    "pdf_path = \"data/living-trust-forms-03_Ileana Hardison Rev Family Trust DTD 05052010.pdf\"\n",
    "rade.add_document(pdf_path, 1)"
   ]
  },
  {
   "cell_type": "markdown",
   "metadata": {
    "application/vnd.databricks.v1+cell": {
     "cellMetadata": {},
     "inputWidgets": {},
     "nuid": "711cb098-71f5-4050-addb-3e20e3405a50",
     "showTitle": false,
     "tableResultSettingsMap": {},
     "title": ""
    }
   },
   "source": [
    "📚 Step 3 – Build the Index"
   ]
  },
  {
   "cell_type": "code",
   "execution_count": 5,
   "metadata": {},
   "outputs": [
    {
     "data": {
      "text/plain": [
       "''"
      ]
     },
     "execution_count": 5,
     "metadata": {},
     "output_type": "execute_result"
    }
   ],
   "source": [
    "import os\n",
    "os.environ.get(\"DOC_INTEL\", \"\").strip()"
   ]
  },
  {
   "cell_type": "code",
   "execution_count": 6,
   "metadata": {
    "application/vnd.databricks.v1+cell": {
     "cellMetadata": {},
     "inputWidgets": {},
     "nuid": "22fea787-7f42-4f7b-b191-256beae86cdd",
     "showTitle": false,
     "tableResultSettingsMap": {},
     "title": ""
    }
   },
   "outputs": [
    {
     "name": "stdout",
     "output_type": "stream",
     "text": [
      "🔧 Building index for 17 pages...\n",
      "---- WARNING! You are using PLAID with an experimental replacement for FAISS for greater compatibility ----\n",
      "This is a behaviour change from RAGatouille 0.8.0 onwards.\n",
      "This works fine for most users and smallish datasets, but can be considerably slower than FAISS and could cause worse results in some situations.\n",
      "If you're confident with FAISS working on your machine, pass use_faiss=True to revert to the FAISS-using behaviour.\n",
      "--------------------\n",
      "\n",
      "\n",
      "[May 14, 15:32:33] #> Note: Output directory .ragatouille/colbert/indexes/living-trust-forms-03_Ileana Hardison Rev Family Trust DTD 05052010.pdf already exists\n",
      "\n",
      "\n",
      "#> Starting...\n",
      "#> Starting...\n"
     ]
    },
    {
     "name": "stderr",
     "output_type": "stream",
     "text": [
      "/opt/conda/lib/python3.11/site-packages/colbert/utils/amp.py:12: FutureWarning: `torch.cuda.amp.GradScaler(args...)` is deprecated. Please use `torch.amp.GradScaler('cuda', args...)` instead.\n",
      "  self.scaler = torch.cuda.amp.GradScaler()\n",
      "/opt/conda/lib/python3.11/site-packages/colbert/utils/amp.py:15: FutureWarning: `torch.cuda.amp.autocast(args...)` is deprecated. Please use `torch.amp.autocast('cuda', args...)` instead.\n",
      "  return torch.cuda.amp.autocast() if self.activated else NullContextManager()\n",
      "/opt/conda/lib/python3.11/site-packages/colbert/utils/amp.py:12: FutureWarning: `torch.cuda.amp.GradScaler(args...)` is deprecated. Please use `torch.amp.GradScaler('cuda', args...)` instead.\n",
      "  self.scaler = torch.cuda.amp.GradScaler()\n",
      "/opt/conda/lib/python3.11/site-packages/colbert/utils/amp.py:15: FutureWarning: `torch.cuda.amp.autocast(args...)` is deprecated. Please use `torch.amp.autocast('cuda', args...)` instead.\n",
      "  return torch.cuda.amp.autocast() if self.activated else NullContextManager()\n"
     ]
    },
    {
     "name": "stdout",
     "output_type": "stream",
     "text": [
      "nranks = 2 \t num_gpus = 2 \t device=1\n",
      "[May 14, 15:32:38] [1] \t\t #> Encoding 18 passages..\n",
      "nranks = 2 \t num_gpus = 2 \t device=0\n",
      "[May 14, 15:32:38] [0] \t\t #> Encoding 20 passages..\n",
      "[May 14, 15:32:40] [0] \t\t avg_doclen_est = 123.32221984863281 \t len(local_sample) = 20\n",
      "[May 14, 15:32:40] [1] \t\t avg_doclen_est = 123.32221984863281 \t len(local_sample) = 18\n",
      "[May 14, 15:32:40] [0] \t\t Creating 1,024 partitions.\n",
      "[May 14, 15:32:40] [0] \t\t *Estimated* 4,686 embeddings.\n",
      "[May 14, 15:32:40] [0] \t\t #> Saving the indexing plan to .ragatouille/colbert/indexes/living-trust-forms-03_Ileana Hardison Rev Family Trust DTD 05052010.pdf/plan.json ..\n"
     ]
    },
    {
     "name": "stderr",
     "output_type": "stream",
     "text": [
      "/opt/conda/lib/python3.11/site-packages/colbert/indexing/collection_indexer.py:256: FutureWarning: You are using `torch.load` with `weights_only=False` (the current default value), which uses the default pickle module implicitly. It is possible to construct malicious pickle data which will execute arbitrary code during unpickling (See https://github.com/pytorch/pytorch/blob/main/SECURITY.md#untrusted-models for more details). In a future release, the default value for `weights_only` will be flipped to `True`. This limits the functions that could be executed during unpickling. Arbitrary objects will no longer be allowed to be loaded via this mode unless they are explicitly allowlisted by the user via `torch.serialization.add_safe_globals`. We recommend you start setting `weights_only=True` for any use case where you don't have full control of the loaded file. Please open an issue on GitHub for any issues related to this experimental feature.\n",
      "  sub_sample = torch.load(sub_sample_path)\n",
      "WARNING clustering 4459 points to 1024 centroids: please provide at least 39936 training points\n"
     ]
    },
    {
     "name": "stdout",
     "output_type": "stream",
     "text": [
      "Clustering 4459 points in 128D to 1024 clusters, redo 1 times, 20 iterations\n",
      "  Preprocessing in 0.00 s\n",
      "[May 14, 15:32:41] Loading decompress_residuals_cpp extension (set COLBERT_LOAD_TORCH_EXTENSION_VERBOSE=True for more info)...\n"
     ]
    },
    {
     "name": "stderr",
     "output_type": "stream",
     "text": [
      "/opt/conda/lib/python3.11/site-packages/torch/utils/cpp_extension.py:1964: UserWarning: TORCH_CUDA_ARCH_LIST is not set, all archs for visible cards are included for compilation. \n",
      "If this is not desired, please set os.environ['TORCH_CUDA_ARCH_LIST'].\n",
      "  warnings.warn(\n"
     ]
    },
    {
     "name": "stdout",
     "output_type": "stream",
     "text": [
      "[May 14, 15:32:42] Loading packbits_cpp extension (set COLBERT_LOAD_TORCH_EXTENSION_VERBOSE=True for more info)...\n"
     ]
    },
    {
     "name": "stderr",
     "output_type": "stream",
     "text": [
      "/opt/conda/lib/python3.11/site-packages/torch/utils/cpp_extension.py:1964: UserWarning: TORCH_CUDA_ARCH_LIST is not set, all archs for visible cards are included for compilation. \n",
      "If this is not desired, please set os.environ['TORCH_CUDA_ARCH_LIST'].\n",
      "  warnings.warn(\n",
      "/opt/conda/lib/python3.11/site-packages/colbert/indexing/codecs/residual.py:141: FutureWarning: You are using `torch.load` with `weights_only=False` (the current default value), which uses the default pickle module implicitly. It is possible to construct malicious pickle data which will execute arbitrary code during unpickling (See https://github.com/pytorch/pytorch/blob/main/SECURITY.md#untrusted-models for more details). In a future release, the default value for `weights_only` will be flipped to `True`. This limits the functions that could be executed during unpickling. Arbitrary objects will no longer be allowed to be loaded via this mode unless they are explicitly allowlisted by the user via `torch.serialization.add_safe_globals`. We recommend you start setting `weights_only=True` for any use case where you don't have full control of the loaded file. Please open an issue on GitHub for any issues related to this experimental feature.\n",
      "  centroids = torch.load(centroids_path, map_location='cpu')\n",
      "/opt/conda/lib/python3.11/site-packages/colbert/indexing/codecs/residual.py:141: FutureWarning: You are using `torch.load` with `weights_only=False` (the current default value), which uses the default pickle module implicitly. It is possible to construct malicious pickle data which will execute arbitrary code during unpickling (See https://github.com/pytorch/pytorch/blob/main/SECURITY.md#untrusted-models for more details). In a future release, the default value for `weights_only` will be flipped to `True`. This limits the functions that could be executed during unpickling. Arbitrary objects will no longer be allowed to be loaded via this mode unless they are explicitly allowlisted by the user via `torch.serialization.add_safe_globals`. We recommend you start setting `weights_only=True` for any use case where you don't have full control of the loaded file. Please open an issue on GitHub for any issues related to this experimental feature.\n",
      "  centroids = torch.load(centroids_path, map_location='cpu')\n",
      "/opt/conda/lib/python3.11/site-packages/colbert/indexing/codecs/residual.py:142: FutureWarning: You are using `torch.load` with `weights_only=False` (the current default value), which uses the default pickle module implicitly. It is possible to construct malicious pickle data which will execute arbitrary code during unpickling (See https://github.com/pytorch/pytorch/blob/main/SECURITY.md#untrusted-models for more details). In a future release, the default value for `weights_only` will be flipped to `True`. This limits the functions that could be executed during unpickling. Arbitrary objects will no longer be allowed to be loaded via this mode unless they are explicitly allowlisted by the user via `torch.serialization.add_safe_globals`. We recommend you start setting `weights_only=True` for any use case where you don't have full control of the loaded file. Please open an issue on GitHub for any issues related to this experimental feature.\n",
      "  avg_residual = torch.load(avgresidual_path, map_location='cpu')\n",
      "/opt/conda/lib/python3.11/site-packages/colbert/indexing/codecs/residual.py:142: FutureWarning: You are using `torch.load` with `weights_only=False` (the current default value), which uses the default pickle module implicitly. It is possible to construct malicious pickle data which will execute arbitrary code during unpickling (See https://github.com/pytorch/pytorch/blob/main/SECURITY.md#untrusted-models for more details). In a future release, the default value for `weights_only` will be flipped to `True`. This limits the functions that could be executed during unpickling. Arbitrary objects will no longer be allowed to be loaded via this mode unless they are explicitly allowlisted by the user via `torch.serialization.add_safe_globals`. We recommend you start setting `weights_only=True` for any use case where you don't have full control of the loaded file. Please open an issue on GitHub for any issues related to this experimental feature.\n",
      "  avg_residual = torch.load(avgresidual_path, map_location='cpu')\n",
      "/opt/conda/lib/python3.11/site-packages/colbert/indexing/codecs/residual.py:143: FutureWarning: You are using `torch.load` with `weights_only=False` (the current default value), which uses the default pickle module implicitly. It is possible to construct malicious pickle data which will execute arbitrary code during unpickling (See https://github.com/pytorch/pytorch/blob/main/SECURITY.md#untrusted-models for more details). In a future release, the default value for `weights_only` will be flipped to `True`. This limits the functions that could be executed during unpickling. Arbitrary objects will no longer be allowed to be loaded via this mode unless they are explicitly allowlisted by the user via `torch.serialization.add_safe_globals`. We recommend you start setting `weights_only=True` for any use case where you don't have full control of the loaded file. Please open an issue on GitHub for any issues related to this experimental feature.\n",
      "  bucket_cutoffs, bucket_weights = torch.load(buckets_path, map_location='cpu')\n",
      "/opt/conda/lib/python3.11/site-packages/colbert/indexing/codecs/residual.py:143: FutureWarning: You are using `torch.load` with `weights_only=False` (the current default value), which uses the default pickle module implicitly. It is possible to construct malicious pickle data which will execute arbitrary code during unpickling (See https://github.com/pytorch/pytorch/blob/main/SECURITY.md#untrusted-models for more details). In a future release, the default value for `weights_only` will be flipped to `True`. This limits the functions that could be executed during unpickling. Arbitrary objects will no longer be allowed to be loaded via this mode unless they are explicitly allowlisted by the user via `torch.serialization.add_safe_globals`. We recommend you start setting `weights_only=True` for any use case where you don't have full control of the loaded file. Please open an issue on GitHub for any issues related to this experimental feature.\n",
      "  bucket_cutoffs, bucket_weights = torch.load(buckets_path, map_location='cpu')\n",
      "0it [00:00, ?it/s]/opt/conda/lib/python3.11/site-packages/torch/utils/cpp_extension.py:1964: UserWarning: TORCH_CUDA_ARCH_LIST is not set, all archs for visible cards are included for compilation. \n",
      "If this is not desired, please set os.environ['TORCH_CUDA_ARCH_LIST'].\n",
      "  warnings.warn(\n",
      "/opt/conda/lib/python3.11/site-packages/colbert/utils/amp.py:15: FutureWarning: `torch.cuda.amp.autocast(args...)` is deprecated. Please use `torch.amp.autocast('cuda', args...)` instead.\n",
      "  return torch.cuda.amp.autocast() if self.activated else NullContextManager()\n",
      "/opt/conda/lib/python3.11/site-packages/torch/utils/cpp_extension.py:1964: UserWarning: TORCH_CUDA_ARCH_LIST is not set, all archs for visible cards are included for compilation. \n",
      "If this is not desired, please set os.environ['TORCH_CUDA_ARCH_LIST'].\n",
      "  warnings.warn(\n",
      "/opt/conda/lib/python3.11/site-packages/colbert/utils/amp.py:15: FutureWarning: `torch.cuda.amp.autocast(args...)` is deprecated. Please use `torch.amp.autocast('cuda', args...)` instead.\n",
      "  return torch.cuda.amp.autocast() if self.activated else NullContextManager()\n",
      "1it [00:00,  5.99it/s]\n",
      "  0%|          | 0/2 [00:00<?, ?it/s]/opt/conda/lib/python3.11/site-packages/colbert/indexing/codecs/residual_embeddings.py:86: FutureWarning: You are using `torch.load` with `weights_only=False` (the current default value), which uses the default pickle module implicitly. It is possible to construct malicious pickle data which will execute arbitrary code during unpickling (See https://github.com/pytorch/pytorch/blob/main/SECURITY.md#untrusted-models for more details). In a future release, the default value for `weights_only` will be flipped to `True`. This limits the functions that could be executed during unpickling. Arbitrary objects will no longer be allowed to be loaded via this mode unless they are explicitly allowlisted by the user via `torch.serialization.add_safe_globals`. We recommend you start setting `weights_only=True` for any use case where you don't have full control of the loaded file. Please open an issue on GitHub for any issues related to this experimental feature.\n",
      "  return torch.load(codes_path, map_location='cpu')\n",
      "100%|██████████| 2/2 [00:00<00:00, 1593.58it/s]\n"
     ]
    },
    {
     "name": "stdout",
     "output_type": "stream",
     "text": [
      "[May 14, 15:32:43] Loading decompress_residuals_cpp extension (set COLBERT_LOAD_TORCH_EXTENSION_VERBOSE=True for more info)...\n",
      "[0.027, 0.027, 0.026, 0.023, 0.022, 0.027, 0.025, 0.022, 0.025, 0.027, 0.023, 0.029, 0.025, 0.025, 0.026, 0.027, 0.024, 0.023, 0.025, 0.026, 0.026, 0.025, 0.024, 0.026, 0.023, 0.025, 0.025, 0.027, 0.022, 0.024, 0.025, 0.026, 0.029, 0.025, 0.026, 0.023, 0.027, 0.027, 0.026, 0.032, 0.027, 0.023, 0.023, 0.025, 0.027, 0.026, 0.024, 0.027, 0.027, 0.025, 0.025, 0.026, 0.025, 0.024, 0.022, 0.027, 0.029, 0.026, 0.031, 0.026, 0.023, 0.024, 0.027, 0.024, 0.023, 0.026, 0.024, 0.024, 0.024, 0.026, 0.027, 0.025, 0.027, 0.021, 0.027, 0.028, 0.027, 0.026, 0.025, 0.026, 0.027, 0.028, 0.026, 0.027, 0.024, 0.027, 0.025, 0.024, 0.025, 0.03, 0.026, 0.025, 0.028, 0.028, 0.028, 0.026, 0.031, 0.026, 0.027, 0.025, 0.027, 0.03, 0.026, 0.023, 0.029, 0.027, 0.023, 0.025, 0.024, 0.024, 0.023, 0.032, 0.026, 0.025, 0.03, 0.024, 0.027, 0.027, 0.024, 0.023, 0.024, 0.026, 0.026, 0.028, 0.028, 0.027, 0.024, 0.025]\n",
      "[May 14, 15:32:43] [0] \t\t #> Encoding 20 passages..\n",
      "[May 14, 15:32:43] Loading packbits_cpp extension (set COLBERT_LOAD_TORCH_EXTENSION_VERBOSE=True for more info)...\n",
      "[May 14, 15:32:43] [1] \t\t #> Encoding 18 passages..\n",
      "[May 14, 15:32:43] #> Optimizing IVF to store map from centroids to list of pids..\n",
      "[May 14, 15:32:43] #> Building the emb2pid mapping..\n",
      "[May 14, 15:32:43] len(emb2pid) = 4693\n",
      "[May 14, 15:32:43] #> Saved optimized IVF to .ragatouille/colbert/indexes/living-trust-forms-03_Ileana Hardison Rev Family Trust DTD 05052010.pdf/ivf.pid.pt\n",
      "\n"
     ]
    },
    {
     "name": "stderr",
     "output_type": "stream",
     "text": [
      "100%|██████████| 1024/1024 [00:00<00:00, 36744.30it/s]\n",
      "[rank0]:[W514 15:32:44.862566312 ProcessGroupNCCL.cpp:1250] Warning: WARNING: process group has NOT been destroyed before we destruct ProcessGroupNCCL. On normal program exit, the application should call destroy_process_group to ensure that any pending NCCL operations have finished in this process. In rare cases this process can exit before this point and block the progress of another member of the process group. This constraint has always been present,  but this warning has only been added since PyTorch 2.4 (function operator())\n"
     ]
    },
    {
     "name": "stdout",
     "output_type": "stream",
     "text": [
      "#> Joined...\n",
      "#> Joined...\n",
      "Done indexing!\n",
      "✅ Index built: .ragatouille/colbert/indexes/living-trust-forms-03_Ileana Hardison Rev Family Trust DTD 05052010.pdf\n"
     ]
    }
   ],
   "source": [
    "rade.build_faiss_index()"
   ]
  },
  {
   "cell_type": "markdown",
   "metadata": {
    "application/vnd.databricks.v1+cell": {
     "cellMetadata": {},
     "inputWidgets": {},
     "nuid": "6fc2ec7f-2f50-416e-bb15-997387c3b302",
     "showTitle": false,
     "tableResultSettingsMap": {},
     "title": ""
    }
   },
   "source": [
    "🔍 Step 4 – Retrieve Top-k Pages for a Query"
   ]
  },
  {
   "cell_type": "code",
   "execution_count": 9,
   "metadata": {
    "application/vnd.databricks.v1+cell": {
     "cellMetadata": {},
     "inputWidgets": {},
     "nuid": "f45109d4-7995-4a29-8787-02d3816449df",
     "showTitle": false,
     "tableResultSettingsMap": {},
     "title": ""
    }
   },
   "outputs": [
    {
     "name": "stdout",
     "output_type": "stream",
     "text": [
      "📄 Page 1 | Score: 22.97\n",
      "With this purpose, the primary asset management goal for this Living Trust will be the protection of the value of the Property. The secondary asset management goal for this Living Trust is to generate income and growth at a reasonable risk.\n",
      "Trustee\n",
      "2. During the lifetime of the Grantor, and while the Grantor is not Incapacitated, the Grantor will serve as the primary trustee (the \"Primary Trustee\"\n",
      "📄 Page 9 | Score: 22.34\n",
      "b. After the death of the Grantor, the Trustee will have the power to appoint one or more individuals or institutions to act as co-Trustee where it is deemed reasonable and in the best overall interest of this Living Trust.\n",
      "c. The Trustee may employ and rely on the advice of experts including, but not limited to, legal counsel, accountants and investment advisors to help in the management of the P\n",
      "📄 Page 10 | Score: 22.23\n",
      "NONPUBLIC//FDIC INTERNAL ONLY\n",
      "d. The Trustee may retain, exchange, insure, repair, improve, sell or dispose of any and all personal property belonging to this Living Trust as the Trustee deems reasonable and in the best overall interest of this Living Trust, without liability for loss or depreciation.\n",
      "a. The Trustee may invest, manage, lease, rent, exchange, mortgage, sell, dispose of or give opti\n"
     ]
    }
   ],
   "source": [
    "results = rade.retrieve_faiss_index([\"What is the name of the Trustee of this trust?\"], 3)\n",
    "for r in results:\n",
    "    print(f\"📄 Page {r.page.page_num} | Score: {r.score:.2f}\")\n",
    "    print(r.page.text[:400])\n"
   ]
  },
  {
   "cell_type": "markdown",
   "metadata": {
    "application/vnd.databricks.v1+cell": {
     "cellMetadata": {},
     "inputWidgets": {},
     "nuid": "89a51b87-5da2-4a0e-b04a-5ef235312571",
     "showTitle": false,
     "tableResultSettingsMap": {},
     "title": ""
    }
   },
   "source": [
    "---"
   ]
  },
  {
   "cell_type": "markdown",
   "metadata": {
    "application/vnd.databricks.v1+cell": {
     "cellMetadata": {},
     "inputWidgets": {},
     "nuid": "3384c442-0098-4487-b46b-100a5eadc922",
     "showTitle": false,
     "tableResultSettingsMap": {},
     "title": ""
    }
   },
   "source": [
    "## Section 2 🔍 RADE Trust Document Analyzer -  Entity and QA Extraction from Trust Documents\n",
    "\n",
    "This section supports:\n",
    "- Named Entity Recognition (NER) using GLiNER for labeled entity queries\n",
    "- Question Answering (QA) using RoBERTa for direct questions\n",
    "\n",
    "Each result:\n",
    "- Retrieves top-k chunks via ColBERT\n",
    "- Runs either QA or NER based on the query type\n",
    "- Presents results interactively using arrows to flip through top passages\n",
    "\n"
   ]
  },
  {
   "cell_type": "markdown",
   "metadata": {
    "application/vnd.databricks.v1+cell": {
     "cellMetadata": {},
     "inputWidgets": {},
     "nuid": "908a3219-541f-4bdf-b27c-5e46293b8a37",
     "showTitle": false,
     "tableResultSettingsMap": {},
     "title": ""
    }
   },
   "source": [
    "### Step1 🧩 – Define Query-to-Label Mapping\n",
    "\n",
    "Use the schema as below:\n",
    "\n",
    "```python\n",
    "{\n",
    "  \"Who are the Grantors?\": {\n",
    "    \"type\": \"ner\",\n",
    "    \"labels\": [\"Grantor_Settlor\"]\n",
    "  },\n",
    "  \"Who are the primary Trustees?\": {\n",
    "    \"type\": \"ner\",\n",
    "    \"labels\": [\"Primary_Trustee\"]\n",
    "  },\n",
    "  \"Who are the Successor Trustees?\": {\n",
    "    \"type\": \"ner\",\n",
    "    \"labels\": [\"Successor_Secondary_Trustee\"]\n",
    "  },\n",
    "  \"Who are the primary Beneficiaries?\": {\n",
    "    \"type\": \"ner\",\n",
    "    \"labels\": [\"Primary Beneficiary\"]\n",
    "  },\n",
    "  \"Who are the Successor Beneficiaries?\": {\n",
    "    \"type\": \"ner\",\n",
    "    \"labels\": [\"Successor_Beneficiary\"]\n",
    "  },\n",
    "  \"What is the name of the trust?\": {\n",
    "    \"type\": \"qa\",\n",
    "    \"labels\": []\n",
    "  },\n",
    "  \"What is the date of the trust?\": {\n",
    "    \"type\": \"qa\",\n",
    "    \"labels\": []\n",
    "  },\n",
    "  \"Is this trust revocable or irrevocable?\": {\n",
    "    \"type\": \"qa\",\n",
    "    \"labels\": []\n",
    "  }\n",
    "}\n",
    "\n"
   ]
  },
  {
   "cell_type": "code",
   "execution_count": 36,
   "metadata": {
    "application/vnd.databricks.v1+cell": {
     "cellMetadata": {},
     "inputWidgets": {},
     "nuid": "61c2936e-e998-48db-8c12-53cffaeb074d",
     "showTitle": false,
     "tableResultSettingsMap": {},
     "title": ""
    }
   },
   "outputs": [],
   "source": [
    "#read query file\n",
    "query_file = \"data/query_plan.json\"\n",
    "with open(query_file, \"r\") as j:\n",
    "    query_plan = json.load(j)\n"
   ]
  },
  {
   "cell_type": "code",
   "execution_count": 29,
   "metadata": {
    "application/vnd.databricks.v1+cell": {
     "cellMetadata": {},
     "inputWidgets": {},
     "nuid": "958aaa5f-483c-471f-bf63-e9581bf739a2",
     "showTitle": false,
     "tableResultSettingsMap": {},
     "title": ""
    }
   },
   "outputs": [],
   "source": [
    "#function to use RADE extractive model\n",
    "def extract_entities_per_page(rade, retrieved_pages, labels):\n",
    "    page_entities = {}\n",
    "\n",
    "    for rp in retrieved_pages:\n",
    "        text = rp.page.text.replace(\"\\n\", \" \")\n",
    "        entities = rade.entity_extraction_model.predict_entities(text, labels)\n",
    "        key = f\"{rp.page.doc_name}_page{rp.page.page_num}\"\n",
    "        page_entities[key] = entities\n",
    "\n",
    "    return page_entities\n"
   ]
  },
  {
   "cell_type": "markdown",
   "metadata": {
    "application/vnd.databricks.v1+cell": {
     "cellMetadata": {},
     "inputWidgets": {},
     "nuid": "afe4afca-a58a-4eb0-8c94-61147dc84f29",
     "showTitle": false,
     "tableResultSettingsMap": {},
     "title": ""
    }
   },
   "source": [
    "## 🧠 Step 2 – Run RADE: Parse + Index + Query"
   ]
  },
  {
   "cell_type": "code",
   "execution_count": 61,
   "metadata": {
    "application/vnd.databricks.v1+cell": {
     "cellMetadata": {},
     "inputWidgets": {},
     "nuid": "02fe41eb-c8fd-4d66-a94d-232d8756653a",
     "showTitle": false,
     "tableResultSettingsMap": {},
     "title": ""
    }
   },
   "outputs": [
    {
     "name": "stderr",
     "output_type": "stream",
     "text": [
      "100%|██████████| 1/1 [00:00<00:00, 67.70it/s]\n",
      "100%|██████████| 1/1 [00:00<00:00, 67.01it/s]\n",
      "100%|██████████| 1/1 [00:00<00:00, 65.99it/s]\n",
      "100%|██████████| 1/1 [00:00<00:00, 68.76it/s]\n",
      "100%|██████████| 1/1 [00:00<00:00, 68.91it/s]\n",
      "100%|██████████| 1/1 [00:00<00:00, 67.72it/s]\n",
      "100%|██████████| 1/1 [00:00<00:00, 69.48it/s]\n",
      "100%|██████████| 1/1 [00:00<00:00, 69.59it/s]\n"
     ]
    }
   ],
   "source": [
    "query_results = []\n",
    "\n",
    "for query, meta in query_plan.items():\n",
    "    retrieved = rade.retrieve_faiss_index([query], k=3)  # List of RetrievedPage\n",
    "    documents = [r.page.text for r in retrieved]\n",
    "\n",
    "    # Rerank using ColBERT\n",
    "    retrieved_reranked = rade.retrieval_model.rerank(query=[query], documents=documents, k=3)\n",
    "\n",
    "    # Map reranked results back to original RetrievedPage objects using result_index\n",
    "    reranked_results = [retrieved[item['result_index']] for item in retrieved_reranked]\n",
    "\n",
    "    if meta[\"type\"] == \"qa\":\n",
    "        qa_result = rade.run_qa_pipeline(\n",
    "            question=query,\n",
    "            retrieved_texts=[\n",
    "                {\n",
    "                    \"content\": rp.page.text,\n",
    "                    \"document_metadata\": {\n",
    "                        \"document\": rp.page.doc_name,\n",
    "                        \"page\": rp.page.page_num\n",
    "                    }\n",
    "                } for rp in reranked_results\n",
    "            ]\n",
    "        )\n",
    "        query_results.append({\n",
    "            \"query\": query,\n",
    "            \"type\": \"qa\",\n",
    "            \"labels\": [],\n",
    "            \"results\": reranked_results,\n",
    "            \"qa\": qa_result,\n",
    "            \"entities\": {}\n",
    "        })\n",
    "\n",
    "    elif meta[\"type\"] == \"ner\":\n",
    "        retrieved_texts = [\n",
    "            {\n",
    "                \"content\": rp.page.text,\n",
    "                \"document_metadata\": {\n",
    "                    \"document\": rp.page.doc_name,\n",
    "                    \"page\": rp.page.page_num\n",
    "                }\n",
    "            } for rp in reranked_results\n",
    "        ]\n",
    "\n",
    "        entity_result = rade.extract_entities_with_gliner(\n",
    "            retrieved_texts=retrieved_texts,\n",
    "            labels=meta[\"labels\"],\n",
    "            threshold=0.3\n",
    "        )\n",
    "\n",
    "        query_results.append({\n",
    "            \"query\": query,\n",
    "            \"type\": \"ner\",\n",
    "            \"labels\": meta[\"labels\"],\n",
    "            \"results\": reranked_results,\n",
    "            \"qa\": None,\n",
    "            \"entities\": {\n",
    "                f\"{r['document']}_page{r['page']}\": [\n",
    "                    e for e in entity_result[\"entities\"]\n",
    "                    if e in entity_result[\"entities\"]\n",
    "                ]\n",
    "                for r in entity_result[\"retrieved\"]\n",
    "            }\n",
    "        })\n"
   ]
  },
  {
   "cell_type": "code",
   "execution_count": 62,
   "metadata": {},
   "outputs": [],
   "source": [
    "def normalize_retrieved_pages(data):\n",
    "    normalized = []\n",
    "    for item in data:\n",
    "        normalized.append({\n",
    "            \"query\": item['query'],\n",
    "            \"type\": item['type'],\n",
    "            \"labels\": item['labels'],\n",
    "            \"results\": [\n",
    "                {\n",
    "                    \"doc_id\": r.page.doc_id,\n",
    "                    \"doc_name\": r.page.doc_name,\n",
    "                    \"page_num\": r.page.page_num,\n",
    "                    \"text\": r.page.text\n",
    "                } for r in item['results']\n",
    "            ]\n",
    "        })\n",
    "    return normalized\n"
   ]
  },
  {
   "cell_type": "code",
   "execution_count": 70,
   "metadata": {},
   "outputs": [],
   "source": [
    "normalized_data = normalize_retrieved_pages(query_results)\n",
    "\n",
    "with open(\"./data/rade_query_result.json\", \"w\") as f:\n",
    "    json.dump(normalized_data, f, indent=4)"
   ]
  },
  {
   "cell_type": "markdown",
   "metadata": {
    "application/vnd.databricks.v1+cell": {
     "cellMetadata": {},
     "inputWidgets": {},
     "nuid": "fdba86e2-9f04-4be8-a8d5-c68473adf84d",
     "showTitle": false,
     "tableResultSettingsMap": {},
     "title": ""
    }
   },
   "source": [
    "## Step 3 - Visualize"
   ]
  },
  {
   "cell_type": "code",
   "execution_count": 71,
   "metadata": {
    "application/vnd.databricks.v1+cell": {
     "cellMetadata": {},
     "inputWidgets": {},
     "nuid": "d763ee3f-ff15-4c78-9437-436b6320fcfd",
     "showTitle": false,
     "tableResultSettingsMap": {},
     "title": ""
    }
   },
   "outputs": [],
   "source": [
    "import html\n",
    "import ipywidgets as widgets\n",
    "from IPython.display import display, Markdown, HTML, clear_output\n",
    "\n",
    "def highlight_entities(text: str, entities: list, highlight_answer: str = None) -> str:\n",
    "    \"\"\"\n",
    "    Highlight QA answer and NER entities using bright yellow <mark>.\n",
    "    \"\"\"\n",
    "    text = html.escape(text)\n",
    "\n",
    "    # Highlight QA answer (first)\n",
    "    if highlight_answer:\n",
    "        safe_answer = html.escape(highlight_answer.strip())\n",
    "        if safe_answer and safe_answer in text:\n",
    "            text = text.replace(\n",
    "                safe_answer,\n",
    "                f'<mark style=\"background-color:yellow\" title=\"QA Answer\">{safe_answer}</mark>'\n",
    "            )\n",
    "\n",
    "    # Highlight NER entities\n",
    "    entities = sorted(entities, key=lambda e: -len(e['text']))\n",
    "    for ent in entities:\n",
    "        safe_text = html.escape(ent[\"text\"])\n",
    "        label = html.escape(ent[\"label\"])\n",
    "        score = ent.get(\"score\", None)\n",
    "        tooltip = f\"{label}\" + (f\" ({score:.2f})\" if score else \"\")\n",
    "        text = text.replace(\n",
    "            safe_text,\n",
    "            f'<mark style=\"background-color:yellow\" title=\"{tooltip}\">{safe_text}</mark>'\n",
    "        )\n",
    "\n",
    "    return text\n",
    "\n",
    "\n",
    "def show_query_results(query_result: dict):\n",
    "    query = query_result[\"query\"]\n",
    "    query_type = query_result[\"type\"]\n",
    "    pages = query_result[\"results\"]\n",
    "    entity_map = query_result[\"entities\"]\n",
    "    qa = query_result[\"qa\"]\n",
    "\n",
    "    index = widgets.IntText(value=0, layout=widgets.Layout(width=\"40px\"), disabled=True)\n",
    "    output = widgets.Output()\n",
    "\n",
    "    prev_button = widgets.Button(description=\"◀️ Prev\", layout=widgets.Layout(width=\"80px\"))\n",
    "    next_button = widgets.Button(description=\"Next ▶️\", layout=widgets.Layout(width=\"80px\"))\n",
    "    nav_box = widgets.HBox([prev_button, index, next_button])\n",
    "\n",
    "    def render_page(i):\n",
    "        with output:\n",
    "            clear_output(wait=True)\n",
    "            page = pages[i].page\n",
    "            score = pages[i].score\n",
    "            key = f\"{page.doc_name}_page{page.page_num}\"\n",
    "            ents = entity_map.get(key, []) if query_type == \"ner\" else []\n",
    "\n",
    "            display(Markdown(f\"## 🔎 Query: `{query}`\"))\n",
    "\n",
    "            if query_type == \"qa\":\n",
    "                answer = qa.get(\"answer\", \"[No answer]\")\n",
    "                display(Markdown(f\"### 🤖 QA Answer: `{answer}`\"))\n",
    "            else:\n",
    "                answer = None  # Not used\n",
    "\n",
    "            display(Markdown(f\"**📄 Page {page.page_num} — Score: `{score:.2f}` — File: `{page.doc_name}`**\"))\n",
    "\n",
    "            highlighted_text = highlight_entities(\n",
    "                text=page.text[:3000],\n",
    "                entities=ents,\n",
    "                highlight_answer=answer\n",
    "            )\n",
    "\n",
    "            display(HTML(f\"<pre style='line-height:1.5;font-family:monospace'>{highlighted_text}</pre>\"))\n",
    "\n",
    "    def on_prev_clicked(_):\n",
    "        if index.value > 0:\n",
    "            index.value -= 1\n",
    "            render_page(index.value)\n",
    "\n",
    "    def on_next_clicked(_):\n",
    "        if index.value < len(pages) - 1:\n",
    "            index.value += 1\n",
    "            render_page(index.value)\n",
    "\n",
    "    prev_button.on_click(on_prev_clicked)\n",
    "    next_button.on_click(on_next_clicked)\n",
    "\n",
    "    display(nav_box, output)\n",
    "    render_page(index.value)\n"
   ]
  },
  {
   "cell_type": "code",
   "execution_count": 72,
   "metadata": {
    "application/vnd.databricks.v1+cell": {
     "cellMetadata": {},
     "inputWidgets": {},
     "nuid": "1e3c1345-8e01-465a-b262-67ff8006cc30",
     "showTitle": false,
     "tableResultSettingsMap": {},
     "title": ""
    }
   },
   "outputs": [
    {
     "data": {
      "application/vnd.jupyter.widget-view+json": {
       "model_id": "9a05e0569f5e43368f209c1af3cac1b4",
       "version_major": 2,
       "version_minor": 0
      },
      "text/plain": [
       "HBox(children=(Button(description='◀️ Prev', layout=Layout(width='80px'), style=ButtonStyle()), IntText(value=…"
      ]
     },
     "metadata": {},
     "output_type": "display_data"
    },
    {
     "data": {
      "application/vnd.jupyter.widget-view+json": {
       "model_id": "da90521f46f740e49ceccdb36266e310",
       "version_major": 2,
       "version_minor": 0
      },
      "text/plain": [
       "Output()"
      ]
     },
     "metadata": {},
     "output_type": "display_data"
    },
    {
     "data": {
      "application/vnd.jupyter.widget-view+json": {
       "model_id": "8b5c262bbc3348198122001d2ae8ecb3",
       "version_major": 2,
       "version_minor": 0
      },
      "text/plain": [
       "HBox(children=(Button(description='◀️ Prev', layout=Layout(width='80px'), style=ButtonStyle()), IntText(value=…"
      ]
     },
     "metadata": {},
     "output_type": "display_data"
    },
    {
     "data": {
      "application/vnd.jupyter.widget-view+json": {
       "model_id": "2271b342f3314815b11b652d215f7c1e",
       "version_major": 2,
       "version_minor": 0
      },
      "text/plain": [
       "Output()"
      ]
     },
     "metadata": {},
     "output_type": "display_data"
    },
    {
     "data": {
      "application/vnd.jupyter.widget-view+json": {
       "model_id": "809bb78b8a8f49fdbe4bcd768fab5897",
       "version_major": 2,
       "version_minor": 0
      },
      "text/plain": [
       "HBox(children=(Button(description='◀️ Prev', layout=Layout(width='80px'), style=ButtonStyle()), IntText(value=…"
      ]
     },
     "metadata": {},
     "output_type": "display_data"
    },
    {
     "data": {
      "application/vnd.jupyter.widget-view+json": {
       "model_id": "9899a962364247e6b051f24be18a8f3b",
       "version_major": 2,
       "version_minor": 0
      },
      "text/plain": [
       "Output()"
      ]
     },
     "metadata": {},
     "output_type": "display_data"
    },
    {
     "data": {
      "application/vnd.jupyter.widget-view+json": {
       "model_id": "a490fcaf0f6f4264b885eff07c9d537b",
       "version_major": 2,
       "version_minor": 0
      },
      "text/plain": [
       "HBox(children=(Button(description='◀️ Prev', layout=Layout(width='80px'), style=ButtonStyle()), IntText(value=…"
      ]
     },
     "metadata": {},
     "output_type": "display_data"
    },
    {
     "data": {
      "application/vnd.jupyter.widget-view+json": {
       "model_id": "b12723ea8dfb4a35904810c64b41dc37",
       "version_major": 2,
       "version_minor": 0
      },
      "text/plain": [
       "Output()"
      ]
     },
     "metadata": {},
     "output_type": "display_data"
    },
    {
     "data": {
      "application/vnd.jupyter.widget-view+json": {
       "model_id": "a7a22e710d56443eb0cf252990658aff",
       "version_major": 2,
       "version_minor": 0
      },
      "text/plain": [
       "HBox(children=(Button(description='◀️ Prev', layout=Layout(width='80px'), style=ButtonStyle()), IntText(value=…"
      ]
     },
     "metadata": {},
     "output_type": "display_data"
    },
    {
     "data": {
      "application/vnd.jupyter.widget-view+json": {
       "model_id": "bdf004a0b46f47b7897f86678ac62df7",
       "version_major": 2,
       "version_minor": 0
      },
      "text/plain": [
       "Output()"
      ]
     },
     "metadata": {},
     "output_type": "display_data"
    },
    {
     "data": {
      "application/vnd.jupyter.widget-view+json": {
       "model_id": "5d470e1574bd41f2b2720349eccb18b7",
       "version_major": 2,
       "version_minor": 0
      },
      "text/plain": [
       "HBox(children=(Button(description='◀️ Prev', layout=Layout(width='80px'), style=ButtonStyle()), IntText(value=…"
      ]
     },
     "metadata": {},
     "output_type": "display_data"
    },
    {
     "data": {
      "application/vnd.jupyter.widget-view+json": {
       "model_id": "ca2e8e9ef4ce425e9059961edfd8a4b8",
       "version_major": 2,
       "version_minor": 0
      },
      "text/plain": [
       "Output()"
      ]
     },
     "metadata": {},
     "output_type": "display_data"
    },
    {
     "data": {
      "application/vnd.jupyter.widget-view+json": {
       "model_id": "420dd8b680a24afabf82e1070dc5ced5",
       "version_major": 2,
       "version_minor": 0
      },
      "text/plain": [
       "HBox(children=(Button(description='◀️ Prev', layout=Layout(width='80px'), style=ButtonStyle()), IntText(value=…"
      ]
     },
     "metadata": {},
     "output_type": "display_data"
    },
    {
     "data": {
      "application/vnd.jupyter.widget-view+json": {
       "model_id": "dc50776db3e54de9a8b9243cd30f6654",
       "version_major": 2,
       "version_minor": 0
      },
      "text/plain": [
       "Output()"
      ]
     },
     "metadata": {},
     "output_type": "display_data"
    },
    {
     "data": {
      "application/vnd.jupyter.widget-view+json": {
       "model_id": "78a1c75fb4f844b0b136981553dc653d",
       "version_major": 2,
       "version_minor": 0
      },
      "text/plain": [
       "HBox(children=(Button(description='◀️ Prev', layout=Layout(width='80px'), style=ButtonStyle()), IntText(value=…"
      ]
     },
     "metadata": {},
     "output_type": "display_data"
    },
    {
     "data": {
      "application/vnd.jupyter.widget-view+json": {
       "model_id": "f3737656223e4406bd8cddf304853d1f",
       "version_major": 2,
       "version_minor": 0
      },
      "text/plain": [
       "Output()"
      ]
     },
     "metadata": {},
     "output_type": "display_data"
    }
   ],
   "source": [
    "for result in query_results:\n",
    "    show_query_results(result)\n",
    "\n"
   ]
  }
 ],
 "metadata": {
  "application/vnd.databricks.v1+notebook": {
   "computePreferences": null,
   "dashboards": [],
   "environmentMetadata": null,
   "inputWidgetPreferences": null,
   "language": "python",
   "notebookMetadata": {
    "pythonIndentUnit": 4
   },
   "notebookName": "RADE_Pipeline",
   "widgets": {}
  },
  "kernelspec": {
   "display_name": "Python 3 (ipykernel)",
   "language": "python",
   "name": "python3"
  },
  "language_info": {
   "codemirror_mode": {
    "name": "ipython",
    "version": 3
   },
   "file_extension": ".py",
   "mimetype": "text/x-python",
   "name": "python",
   "nbconvert_exporter": "python",
   "pygments_lexer": "ipython3",
   "version": "3.11.10"
  }
 },
 "nbformat": 4,
 "nbformat_minor": 4
}
