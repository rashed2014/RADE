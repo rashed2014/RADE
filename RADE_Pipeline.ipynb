{
 "cells": [
  {
   "cell_type": "code",
   "execution_count": 1,
   "id": "8fbbb645-847d-48a5-8564-f600d5a3d662",
   "metadata": {},
   "outputs": [],
   "source": [
    "import sys\n",
    "from utils.azure_doc_intel import parse_azureDocIntell\n",
    "from rade import RADE, RetrievedPage, DocumentPage"
   ]
  },
  {
   "cell_type": "code",
   "execution_count": 2,
   "id": "74cf6798-403b-439c-9e59-70f2faca64cd",
   "metadata": {},
   "outputs": [
    {
     "name": "stdout",
     "output_type": "stream",
     "text": [
      "Using device map: {'retrieval': 'cuda:0', 'qa': 'cuda:1'}\n",
      "Initializing retrieval model...\n"
     ]
    },
    {
     "name": "stderr",
     "output_type": "stream",
     "text": [
      "`config.hidden_act` is ignored, you should use `config.hidden_activation` instead.\n",
      "Gemma's activation function will be set to `gelu_pytorch_tanh`. Please, use\n",
      "`config.hidden_activation` if you want to override this behaviour.\n",
      "See https://github.com/huggingface/transformers/pull/29402 for more details.\n"
     ]
    },
    {
     "data": {
      "application/vnd.jupyter.widget-view+json": {
       "model_id": "5d10a618198448e9853a28f7e0ba56b5",
       "version_major": 2,
       "version_minor": 0
      },
      "text/plain": [
       "Loading checkpoint shards:   0%|          | 0/2 [00:00<?, ?it/s]"
      ]
     },
     "metadata": {},
     "output_type": "display_data"
    },
    {
     "name": "stderr",
     "output_type": "stream",
     "text": [
      "Device set to use cuda:1\n"
     ]
    },
    {
     "name": "stdout",
     "output_type": "stream",
     "text": [
      "Initializing QA model and entity extraction models...\n",
      "Models initialized successfully!\n"
     ]
    }
   ],
   "source": [
    "#test the class\n",
    "\n",
    "import time\n",
    "import torch\n",
    "from tqdm import tqdm\n",
    "\n",
    "# Start timing execution\n",
    "start_time = time.time()\n",
    "\n",
    "pdf_path = \"../data/trustdocs/living-trust-forms-04_repopulated.pdf\"\n",
    "\n",
    "# Clear GPU cache before loading model\n",
    "torch.cuda.empty_cache()\n",
    "\n",
    "# Instantiate RADE\n",
    "colpali_model = \"../colpali_model_v1.3\"\n",
    "rade = RADE(retrieval_model_name=colpali_model, use_flash_attention=False, max_pages=3)"
   ]
  },
  {
   "cell_type": "code",
   "execution_count": 3,
   "id": "7c119967-3a4f-4e66-bd3c-d19a3b411d65",
   "metadata": {},
   "outputs": [
    {
     "name": "stdout",
     "output_type": "stream",
     "text": [
      "Loading document: 1\n",
      "Added 21 pages from 1\n",
      "Building index for 21 pages...\n"
     ]
    },
    {
     "name": "stderr",
     "output_type": "stream",
     "text": [
      "Building index: 100%|██████████| 6/6 [00:01<00:00,  3.00it/s]"
     ]
    },
    {
     "name": "stdout",
     "output_type": "stream",
     "text": [
      "Embeddings shape: (21, 128)\n",
      "Building exact index...\n",
      "Index built successfully!\n"
     ]
    },
    {
     "name": "stderr",
     "output_type": "stream",
     "text": [
      "\n"
     ]
    }
   ],
   "source": [
    "# ✅ Define additional QA Queries\n",
    "pdf_path = \"../data/trustdocs/living-trust-forms-04_repopulated.pdf\"\n",
    "\n",
    "rade.add_document(pdf_path, 1)\n",
    "rade.build_index()"
   ]
  },
  {
   "cell_type": "code",
   "execution_count": 4,
   "id": "af655ab7-8ea1-4fb3-b1f2-18ffd434f1e7",
   "metadata": {},
   "outputs": [],
   "source": [
    "# Define entity queries and corresponding labels\n",
    "entity_queries = [\n",
    "    \"GRANTOR: what are the Grantors names? (Grantor)\",\n",
    "    \"TRUSTEE: what are the Trustees names? (Trustee)\",\n",
    "    \"Successor TRUSTEE: what are the Successor Trustee names (SUCCESSOR TRUSTEE)?\",\n",
    "    \"BENEFCIARIES: what are the beneficiaries names (BENEFICIARIES)?\",\n",
    "    \"SUCCESSOR BENEFCIARIES: what are the Successor beneficiaries names (SUCCESSOR Beneficiary)? \"\n",
    "]\n",
    "labels_list = [\n",
    "    [\"Grantor names\"],\n",
    "    [\"Trustee Names\"],\n",
    "    [\"Successor Trustee Names\"],\n",
    "    [\"Beneficiary names\"],\n",
    "    [\"Successor Beneficiary Names\"],\n",
    "    [\"Trust Name\"],\n",
    "    [\"Trust Date\"],\n",
    "    [\"Revocable\", \"Irevocable\"],\n",
    "    \n",
    "]\n",
    "qa_queries = [\n",
    "    \"What is the name of this trust?\",\n",
    "    \"What is the date of this trust?\",\n",
    "    \"Is this trust revocable or irrevocable?\",\n",
    "]\n",
    "all_queries_dict = {\n",
    "    \"entity_queries\": entity_queries,\n",
    "    \"qa_queries\": qa_queries\n",
    "}\n"
   ]
  },
  {
   "cell_type": "code",
   "execution_count": 5,
   "id": "bf3b9c7d-7213-4065-9c4d-6f160f57a3ce",
   "metadata": {},
   "outputs": [],
   "source": [
    "all_queries = all_queries_dict[\"entity_queries\"] + all_queries_dict[\"qa_queries\"]\n"
   ]
  },
  {
   "cell_type": "code",
   "execution_count": 6,
   "id": "7f65b702-1922-491a-a8cc-d9d6b52dc328",
   "metadata": {},
   "outputs": [],
   "source": [
    "search_result = rade.retrieve(all_queries)\n",
    "assert len(search_result) == len(all_queries)"
   ]
  },
  {
   "cell_type": "code",
   "execution_count": 7,
   "id": "fd88b1d5-a755-4687-8e61-43ffc92f1671",
   "metadata": {},
   "outputs": [
    {
     "name": "stderr",
     "output_type": "stream",
     "text": [
      "Processing QA Queries:   0%|          | 0/8 [00:00<?, ?it/s]"
     ]
    },
    {
     "name": "stdout",
     "output_type": "stream",
     "text": [
      "Parsing new page: 18\n",
      "Parsing new page: 1\n",
      "Parsing new page: 4\n"
     ]
    },
    {
     "name": "stderr",
     "output_type": "stream",
     "text": [
      "Processing QA Queries:  12%|█▎        | 1/8 [00:10<01:12, 10.33s/it]"
     ]
    },
    {
     "name": "stdout",
     "output_type": "stream",
     "text": [
      "Using cached parsed result for page: 1\n",
      "Parsing new page: 0\n",
      "Parsing new page: 5\n"
     ]
    },
    {
     "name": "stderr",
     "output_type": "stream",
     "text": [
      "Processing QA Queries:  25%|██▌       | 2/8 [00:16<00:46,  7.74s/it]"
     ]
    },
    {
     "name": "stdout",
     "output_type": "stream",
     "text": [
      "Parsing new page: 11\n"
     ]
    },
    {
     "name": "stderr",
     "output_type": "stream",
     "text": [
      "Processing QA Queries:  38%|███▊      | 3/8 [00:19<00:29,  5.82s/it]"
     ]
    },
    {
     "name": "stdout",
     "output_type": "stream",
     "text": [
      "Using cached parsed result for page: 1\n",
      "Using cached parsed result for page: 0\n",
      "Parsing new page: 14\n",
      "Using cached parsed result for page: 4\n",
      "Parsing new page: 13\n"
     ]
    },
    {
     "name": "stderr",
     "output_type": "stream",
     "text": [
      "Processing QA Queries:  50%|█████     | 4/8 [00:24<00:21,  5.43s/it]"
     ]
    },
    {
     "name": "stdout",
     "output_type": "stream",
     "text": [
      "Using cached parsed result for page: 11\n",
      "Using cached parsed result for page: 14\n",
      "Using cached parsed result for page: 4\n",
      "Using cached parsed result for page: 1\n",
      "Using cached parsed result for page: 0\n",
      "Parsing new page: 3\n"
     ]
    },
    {
     "name": "stderr",
     "output_type": "stream",
     "text": [
      "Processing QA Queries:  75%|███████▌  | 6/8 [00:27<00:06,  3.22s/it]"
     ]
    },
    {
     "name": "stdout",
     "output_type": "stream",
     "text": [
      "Using cached parsed result for page: 18\n",
      "Using cached parsed result for page: 0\n",
      "Using cached parsed result for page: 1\n",
      "Using cached parsed result for page: 0\n",
      "Parsing new page: 2\n"
     ]
    },
    {
     "name": "stderr",
     "output_type": "stream",
     "text": [
      "Processing QA Queries: 100%|██████████| 8/8 [00:30<00:00,  3.84s/it]"
     ]
    },
    {
     "name": "stdout",
     "output_type": "stream",
     "text": [
      "Using cached parsed result for page: 5\n"
     ]
    },
    {
     "name": "stderr",
     "output_type": "stream",
     "text": [
      "\n"
     ]
    }
   ],
   "source": [
    "# Store results and parsed page contexts\n",
    "qa_results = []\n",
    "contexts_map = {}  # Dictionary to cache parsed pages\n",
    "\n",
    "for query_idx in tqdm(range(len(all_queries)), desc=\"Processing QA Queries\"):\n",
    "    query = all_queries[query_idx]\n",
    "    pages = search_result[query_idx]\n",
    "\n",
    "    all_pages = []\n",
    "    retrieved_page_nums = []\n",
    "    for page in pages:\n",
    "        page_num = page.page.page_num\n",
    "        retrieved_page_nums.append(str(page_num))\n",
    "\n",
    "        # Check if page has been parsed before\n",
    "        if page_num in contexts_map:\n",
    "            parsed = contexts_map[page_num]\n",
    "            print(f\"Using cached parsed result for page: {page_num}\")\n",
    "        else:\n",
    "            print(f\"Parsing new page: {page_num}\")\n",
    "            parsed = parse_azureDocIntell(page.page.image)\n",
    "            contexts_map[page_num] = parsed\n",
    "\n",
    "        all_pages.append(parsed)\n",
    "\n",
    "    # Combine parsed pages into a single string\n",
    "    combined_pages = \" \".join(all_pages) if all_pages else \"\"\n",
    "    page_nums = \" \".join(retrieved_page_nums) if retrieved_page_nums else \"\"\n",
    "\n",
    "    # print(f\"retrived pages {page_nums} \")\n",
    "    # Run QA model to extract answer\n",
    "    qa_answer = rade.run_qa_pipeline(query, combined_pages)\n",
    "\n",
    "    # Store result\n",
    "    qa_results.append({\n",
    "        \"query\": query,\n",
    "        \"retrieved_pages\": page_nums,\n",
    "        \"context\": combined_pages,\n",
    "        \"RoBerta Answer\": qa_answer\n",
    "    })\n"
   ]
  },
  {
   "cell_type": "code",
   "execution_count": 11,
   "id": "1ee6e972-94e8-446c-8852-ab928b890d07",
   "metadata": {},
   "outputs": [
    {
     "name": "stderr",
     "output_type": "stream",
     "text": [
      "Processing Entity Queries:   0%|          | 0/8 [00:00<?, ?it/s]/opt/conda/lib/python3.11/site-packages/gliner/data_processing/processor.py:410: UserWarning: Sentence of length 955 has been truncated to 768\n",
      "  warnings.warn(f\"Sentence of length {len(tokens)} has been truncated to {max_len}\")\n"
     ]
    },
    {
     "name": "stdout",
     "output_type": "stream",
     "text": [
      "Using cached parsed result for page: 18\n",
      "Using cached parsed result for page: 1\n",
      "Using cached parsed result for page: 4\n"
     ]
    },
    {
     "name": "stderr",
     "output_type": "stream",
     "text": [
      "Processing Entity Queries:  12%|█▎        | 1/8 [00:01<00:08,  1.15s/it]/opt/conda/lib/python3.11/site-packages/gliner/data_processing/processor.py:410: UserWarning: Sentence of length 1373 has been truncated to 768\n",
      "  warnings.warn(f\"Sentence of length {len(tokens)} has been truncated to {max_len}\")\n"
     ]
    },
    {
     "name": "stdout",
     "output_type": "stream",
     "text": [
      "Using cached parsed result for page: 1\n",
      "Using cached parsed result for page: 0\n",
      "Using cached parsed result for page: 5\n"
     ]
    },
    {
     "name": "stderr",
     "output_type": "stream",
     "text": [
      "Processing Entity Queries:  25%|██▌       | 2/8 [00:02<00:08,  1.41s/it]/opt/conda/lib/python3.11/site-packages/gliner/data_processing/processor.py:410: UserWarning: Sentence of length 1429 has been truncated to 768\n",
      "  warnings.warn(f\"Sentence of length {len(tokens)} has been truncated to {max_len}\")\n"
     ]
    },
    {
     "name": "stdout",
     "output_type": "stream",
     "text": [
      "Using cached parsed result for page: 11\n",
      "Using cached parsed result for page: 1\n",
      "Using cached parsed result for page: 0\n"
     ]
    },
    {
     "name": "stderr",
     "output_type": "stream",
     "text": [
      "Processing Entity Queries:  38%|███▊      | 3/8 [00:04<00:07,  1.42s/it]/opt/conda/lib/python3.11/site-packages/gliner/data_processing/processor.py:410: UserWarning: Sentence of length 1258 has been truncated to 768\n",
      "  warnings.warn(f\"Sentence of length {len(tokens)} has been truncated to {max_len}\")\n"
     ]
    },
    {
     "name": "stdout",
     "output_type": "stream",
     "text": [
      "Using cached parsed result for page: 14\n",
      "Using cached parsed result for page: 4\n",
      "Using cached parsed result for page: 13\n"
     ]
    },
    {
     "name": "stderr",
     "output_type": "stream",
     "text": [
      "Processing Entity Queries:  50%|█████     | 4/8 [00:05<00:05,  1.28s/it]/opt/conda/lib/python3.11/site-packages/gliner/data_processing/processor.py:410: UserWarning: Sentence of length 1295 has been truncated to 768\n",
      "  warnings.warn(f\"Sentence of length {len(tokens)} has been truncated to {max_len}\")\n"
     ]
    },
    {
     "name": "stdout",
     "output_type": "stream",
     "text": [
      "Using cached parsed result for page: 11\n",
      "Using cached parsed result for page: 14\n",
      "Using cached parsed result for page: 4\n"
     ]
    },
    {
     "name": "stderr",
     "output_type": "stream",
     "text": [
      "Processing Entity Queries:  62%|██████▎   | 5/8 [00:07<00:04,  1.55s/it]/opt/conda/lib/python3.11/site-packages/gliner/data_processing/processor.py:410: UserWarning: Sentence of length 1386 has been truncated to 768\n",
      "  warnings.warn(f\"Sentence of length {len(tokens)} has been truncated to {max_len}\")\n"
     ]
    },
    {
     "name": "stdout",
     "output_type": "stream",
     "text": [
      "Using cached parsed result for page: 1\n",
      "Using cached parsed result for page: 0\n",
      "Using cached parsed result for page: 3\n"
     ]
    },
    {
     "name": "stderr",
     "output_type": "stream",
     "text": [
      "Processing Entity Queries:  75%|███████▌  | 6/8 [00:08<00:02,  1.38s/it]/opt/conda/lib/python3.11/site-packages/gliner/data_processing/processor.py:410: UserWarning: Sentence of length 1086 has been truncated to 768\n",
      "  warnings.warn(f\"Sentence of length {len(tokens)} has been truncated to {max_len}\")\n"
     ]
    },
    {
     "name": "stdout",
     "output_type": "stream",
     "text": [
      "Using cached parsed result for page: 18\n",
      "Using cached parsed result for page: 0\n",
      "Using cached parsed result for page: 1\n"
     ]
    },
    {
     "name": "stderr",
     "output_type": "stream",
     "text": [
      "Processing Entity Queries:  88%|████████▊ | 7/8 [00:09<00:01,  1.48s/it]/opt/conda/lib/python3.11/site-packages/gliner/data_processing/processor.py:410: UserWarning: Sentence of length 1420 has been truncated to 768\n",
      "  warnings.warn(f\"Sentence of length {len(tokens)} has been truncated to {max_len}\")\n"
     ]
    },
    {
     "name": "stdout",
     "output_type": "stream",
     "text": [
      "Using cached parsed result for page: 0\n",
      "Using cached parsed result for page: 2\n",
      "Using cached parsed result for page: 5\n"
     ]
    },
    {
     "name": "stderr",
     "output_type": "stream",
     "text": [
      "Processing Entity Queries: 100%|██████████| 8/8 [00:10<00:00,  1.37s/it]\n"
     ]
    }
   ],
   "source": [
    "entity_results = []\n",
    "for query_idx in tqdm(range(len(all_queries)), desc=\"Processing Entity Queries\"):\n",
    "    query = all_queries[query_idx]\n",
    "    labels = labels_list[query_idx]\n",
    "    pages = search_result[query_idx]\n",
    "\n",
    "    all_pages = []\n",
    "    retrieved_page_nums = []\n",
    "    for page in pages:\n",
    "        page_num = page.page.page_num\n",
    "        retrieved_page_nums.append(str(page_num))\n",
    "        # Check if page has been parsed before\n",
    "        if page_num in contexts_map:\n",
    "            parsed = contexts_map[page_num]\n",
    "            print(f\"Using cached parsed result for page: {page_num}\")\n",
    "        else:\n",
    "            print(f\"Parsing new page: {page_num}\")\n",
    "            parsed = parse_azureDocIntell(page.page.image)\n",
    "            contexts_map[page_num] = parsed\n",
    "\n",
    "        all_pages.append(parsed)\n",
    "\n",
    "    # Combine parsed pages into a single string\n",
    "    combined_pages = \" \".join(all_pages) if all_pages else \"\"\n",
    "    \n",
    "    page_nums = \" \".join(retrieved_page_nums) if retrieved_page_nums else \"\"\n",
    "\n",
    "\n",
    "    # Extract entities from parsed text if only single gpu\n",
    "    entities = rade.extract_entities_with_gliner(combined_pages, labels)\n",
    "\n",
    "    # Store result\n",
    "    entity_results.append({\n",
    "        \"query\": query,\n",
    "        \"retrieved_pages\": page_nums,\n",
    "        \"context\": combined_pages,\n",
    "        \"GLiNER Answer\": entities\n",
    "    })"
   ]
  },
  {
   "cell_type": "code",
   "execution_count": 19,
   "id": "4dd6cba7-ce5f-4243-8f38-31793b70e6c8",
   "metadata": {},
   "outputs": [
    {
     "data": {
      "text/html": [
       "<div>\n",
       "<style scoped>\n",
       "    .dataframe tbody tr th:only-of-type {\n",
       "        vertical-align: middle;\n",
       "    }\n",
       "\n",
       "    .dataframe tbody tr th {\n",
       "        vertical-align: top;\n",
       "    }\n",
       "\n",
       "    .dataframe thead th {\n",
       "        text-align: right;\n",
       "    }\n",
       "</style>\n",
       "<table border=\"1\" class=\"dataframe\">\n",
       "  <thead>\n",
       "    <tr style=\"text-align: right;\">\n",
       "      <th></th>\n",
       "      <th>query</th>\n",
       "      <th>retrieved_pages_gliner</th>\n",
       "      <th>GLiNER Answer</th>\n",
       "      <th>retrieved_pages_qa</th>\n",
       "      <th>context</th>\n",
       "      <th>answer</th>\n",
       "    </tr>\n",
       "  </thead>\n",
       "  <tbody>\n",
       "    <tr>\n",
       "      <th>0</th>\n",
       "      <td>BENEFCIARIES: what are the beneficiaries names...</td>\n",
       "      <td>14 4 13</td>\n",
       "      <td>[{'text': 'Lisa Smith', 'label': 'Beneficiary ...</td>\n",
       "      <td>14 4 13</td>\n",
       "      <td>NONPUBLIC//FDIC INTERNAL ONLY. beneficiary, sh...</td>\n",
       "      <td>{'score': 0.06967747956514359, 'start': 3179, ...</td>\n",
       "    </tr>\n",
       "    <tr>\n",
       "      <th>1</th>\n",
       "      <td>GRANTOR: what are the Grantors names? (Grantor)</td>\n",
       "      <td>18 1 4</td>\n",
       "      <td>[{'text': 'Mark Mori', 'label': 'Grantor names...</td>\n",
       "      <td>18 1 4</td>\n",
       "      <td>NONPUBLIC//FDIC INTERNAL ONLY. Mark Mori. CO-T...</td>\n",
       "      <td>{'score': 0.04415975883603096, 'start': 2533, ...</td>\n",
       "    </tr>\n",
       "    <tr>\n",
       "      <th>2</th>\n",
       "      <td>Is this trust revocable or irrevocable?</td>\n",
       "      <td>0 2 5</td>\n",
       "      <td>[{'text': 'Revocable Trust', 'label': 'Revocab...</td>\n",
       "      <td>0 2 5</td>\n",
       "      <td>NONPUBLIC//FDIC INTERNAL ONLY. REVOCABLE LIVIN...</td>\n",
       "      <td>{'score': 0.3610323667526245, 'start': 4044, '...</td>\n",
       "    </tr>\n",
       "    <tr>\n",
       "      <th>3</th>\n",
       "      <td>SUCCESSOR BENEFCIARIES: what are the Successor...</td>\n",
       "      <td>11 14 4</td>\n",
       "      <td>[{'text': 'beneficiary', 'label': 'Successor B...</td>\n",
       "      <td>11 14 4</td>\n",
       "      <td>NONPUBLIC//FDIC INTERNAL ONLY. (F) SUCCESSOR T...</td>\n",
       "      <td>{'score': 0.0017009678995236754, 'start': 35, ...</td>\n",
       "    </tr>\n",
       "    <tr>\n",
       "      <th>4</th>\n",
       "      <td>Successor TRUSTEE: what are the Successor Trus...</td>\n",
       "      <td>11 1 0</td>\n",
       "      <td>[{'text': 'Laurie Mori-Smith', 'label': 'Succe...</td>\n",
       "      <td>11 1 0</td>\n",
       "      <td>NONPUBLIC//FDIC INTERNAL ONLY. (F) SUCCESSOR T...</td>\n",
       "      <td>{'score': 0.7432011365890503, 'start': 4361, '...</td>\n",
       "    </tr>\n",
       "  </tbody>\n",
       "</table>\n",
       "</div>"
      ],
      "text/plain": [
       "                                               query retrieved_pages_gliner  \\\n",
       "0  BENEFCIARIES: what are the beneficiaries names...                14 4 13   \n",
       "1    GRANTOR: what are the Grantors names? (Grantor)                 18 1 4   \n",
       "2            Is this trust revocable or irrevocable?                  0 2 5   \n",
       "3  SUCCESSOR BENEFCIARIES: what are the Successor...                11 14 4   \n",
       "4  Successor TRUSTEE: what are the Successor Trus...                 11 1 0   \n",
       "\n",
       "                                       GLiNER Answer retrieved_pages_qa  \\\n",
       "0  [{'text': 'Lisa Smith', 'label': 'Beneficiary ...            14 4 13   \n",
       "1  [{'text': 'Mark Mori', 'label': 'Grantor names...             18 1 4   \n",
       "2  [{'text': 'Revocable Trust', 'label': 'Revocab...              0 2 5   \n",
       "3  [{'text': 'beneficiary', 'label': 'Successor B...            11 14 4   \n",
       "4  [{'text': 'Laurie Mori-Smith', 'label': 'Succe...             11 1 0   \n",
       "\n",
       "                                             context  \\\n",
       "0  NONPUBLIC//FDIC INTERNAL ONLY. beneficiary, sh...   \n",
       "1  NONPUBLIC//FDIC INTERNAL ONLY. Mark Mori. CO-T...   \n",
       "2  NONPUBLIC//FDIC INTERNAL ONLY. REVOCABLE LIVIN...   \n",
       "3  NONPUBLIC//FDIC INTERNAL ONLY. (F) SUCCESSOR T...   \n",
       "4  NONPUBLIC//FDIC INTERNAL ONLY. (F) SUCCESSOR T...   \n",
       "\n",
       "                                              answer  \n",
       "0  {'score': 0.06967747956514359, 'start': 3179, ...  \n",
       "1  {'score': 0.04415975883603096, 'start': 2533, ...  \n",
       "2  {'score': 0.3610323667526245, 'start': 4044, '...  \n",
       "3  {'score': 0.0017009678995236754, 'start': 35, ...  \n",
       "4  {'score': 0.7432011365890503, 'start': 4361, '...  "
      ]
     },
     "execution_count": 19,
     "metadata": {},
     "output_type": "execute_result"
    }
   ],
   "source": [
    "import pandas as pd\n",
    "\n",
    "# Convert lists of dictionaries to pandas DataFrames\n",
    "df_entities = pd.DataFrame(entity_results)\n",
    "df_qa = pd.DataFrame(qa_results)\n",
    "\n",
    "# Perform the merge and prioritize 'context' from entity_results\n",
    "combined_df = pd.merge(\n",
    "    df_entities.drop(columns='context', errors='ignore'),  # Remove 'context' to avoid conflict\n",
    "    df_qa,\n",
    "    on='query',\n",
    "    suffixes=('_gliner', '_qa'),\n",
    "    how='outer'\n",
    ")\n",
    "\n",
    "\n",
    "\n",
    "combined_df.head()"
   ]
  },
  {
   "cell_type": "code",
   "execution_count": 22,
   "id": "25a98a93-7c95-4807-ae4a-2f9d3038b8ff",
   "metadata": {},
   "outputs": [
    {
     "name": "stdout",
     "output_type": "stream",
     "text": [
      "Combined DataFrame saved to: output/living-trust-forms-04_repopulated_results.csv\n"
     ]
    }
   ],
   "source": [
    "# Define the output directory\n",
    "import os\n",
    "output_dir = \"output\"\n",
    "os.makedirs(output_dir, exist_ok=True)  # Ensure the output directory exists\n",
    "\n",
    "# Generate the filename based on the PDF file basename\n",
    "output_filename = os.path.splitext(os.path.basename(pdf_path))[0] + \"_results.csv\"\n",
    "\n",
    "# Save the combined DataFrame to the output directory\n",
    "output_file_path = os.path.join(output_dir, output_filename)\n",
    "combined_df.to_csv(output_file_path, index=False)\n",
    "\n",
    "print(f\"Combined DataFrame saved to: {output_file_path}\")"
   ]
  },
  {
   "cell_type": "code",
   "execution_count": null,
   "id": "d011e4ce-14bc-4718-9be6-f7de37b6ca01",
   "metadata": {},
   "outputs": [],
   "source": []
  },
  {
   "cell_type": "code",
   "execution_count": null,
   "id": "a7d230bb-dd7c-405b-b95b-e56eae636acc",
   "metadata": {},
   "outputs": [],
   "source": []
  },
  {
   "cell_type": "code",
   "execution_count": null,
   "id": "8aac53df-e112-4bfd-86e5-11f30d5e3f93",
   "metadata": {},
   "outputs": [],
   "source": []
  }
 ],
 "metadata": {
  "kernelspec": {
   "display_name": "Python 3 (ipykernel)",
   "language": "python",
   "name": "python3"
  },
  "language_info": {
   "codemirror_mode": {
    "name": "ipython",
    "version": 3
   },
   "file_extension": ".py",
   "mimetype": "text/x-python",
   "name": "python",
   "nbconvert_exporter": "python",
   "pygments_lexer": "ipython3",
   "version": "3.11.10"
  }
 },
 "nbformat": 4,
 "nbformat_minor": 5
}
