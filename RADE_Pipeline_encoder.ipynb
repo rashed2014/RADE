{
 "cells": [
  {
   "cell_type": "markdown",
   "metadata": {
    "application/vnd.databricks.v1+cell": {
     "cellMetadata": {
      "byteLimit": 2048000,
      "rowLimit": 10000
     },
     "inputWidgets": {},
     "nuid": "64534bee-ea0f-4289-9fbb-041278d36b01",
     "showTitle": false,
     "tableResultSettingsMap": {},
     "title": ""
    }
   },
   "source": [
    "# 🧠 RADE: Retriever-Augmented Document Entity Extraction\n",
    "\n",
    "**Note: this leverages in-memory encoding/searching and does not require Faiss GPU install. However, a GPU machine may be required**\n",
    "\n",
    "This notebook demonstrates how to extract information from trust documents using the **RADE** pipeline.  \n",
    "Each query retrieves relevant chunks using **ColBERT**, then:\n",
    "- Runs a **QA model** (RoBERTa) to extract precise answers\n",
    "- Uses **GLiNER** for entity extraction tied to each query\n",
    "\n",
    "***\n",
    "## Section 1:\n",
    "\n",
    "This section demonstrates how to use the **RADE** (Retriever-Augmented Document Entity Extraction) system for parsing and encoding an unstructured pdf documents in memory. This is an alternative to the FAISS indexinf approach. Please note, due to the in memory encoding, document numbers and sizes need to be limited\n",
    "\n",
    "RADE integrates:\n",
    "- **ColBERT** for semantic retrieval\n",
    "- **Azure Document Intelligence** for document parsing (PDFs & scanned pages)\n",
    "\n",
    "---\n",
    "\n",
    "## 🗂️ Steps:\n",
    "1. **Initialize RADE** with model names and Azure credentials\n",
    "2. **Add a document** (PDF) — scanned or digital\n",
    "3. **Build the ColBERT encodings in memory**\n",
    "4. **Retrieve top-k relevant pages**\n"
   ]
  },
  {
   "cell_type": "markdown",
   "metadata": {
    "application/vnd.databricks.v1+cell": {
     "cellMetadata": {
      "byteLimit": 2048000,
      "rowLimit": 10000
     },
     "inputWidgets": {},
     "nuid": "c18e53c3-6b63-4492-b978-fbe6766285ff",
     "showTitle": false,
     "tableResultSettingsMap": {},
     "title": ""
    }
   },
   "source": [
    "### 🔧 Step 1 – Initialize RADE"
   ]
  },
  {
   "cell_type": "code",
   "execution_count": 1,
   "metadata": {},
   "outputs": [],
   "source": [
    "#required imports\n",
    "import sys\n",
    "from rade import RADE, RetrievedPage, DocumentPage\n",
    "from dotenv import load_dotenv\n",
    "import json\n",
    "import os"
   ]
  },
  {
   "cell_type": "code",
   "execution_count": 2,
   "metadata": {},
   "outputs": [],
   "source": [
    "#obtain azure doc intel keys and endpoint\n",
    "load_dotenv() #must be called to load Azure doc intel keys\n",
    "key = os.environ.get(\"DOC_INTEL_Key\")\n",
    "endpoint = os.environ.get(\"DOC_INTEL_ENDPOINT\")\n",
    "if not key or not key.strip():\n",
    "    raise ValueError(\"❌ Initialization failed: 'key' must not be empty.\")\n",
    "if not endpoint or not endpoint.strip():\n",
    "    raise ValueError(\"❌ Initialization failed: 'endpoint' must not be empty.\")"
   ]
  },
  {
   "cell_type": "code",
   "execution_count": 3,
   "metadata": {
    "application/vnd.databricks.v1+cell": {
     "cellMetadata": {
      "byteLimit": 2048000,
      "rowLimit": 10000
     },
     "inputWidgets": {},
     "nuid": "f13de98b-b28c-4f9b-8644-d0294d4af8fc",
     "showTitle": false,
     "tableResultSettingsMap": {},
     "title": ""
    }
   },
   "outputs": [
    {
     "name": "stdout",
     "output_type": "stream",
     "text": [
      "Using device map: {'retrieval': 'cuda', 'qa': 'cuda'}\n",
      "Initializing retrieval model...\n"
     ]
    },
    {
     "name": "stderr",
     "output_type": "stream",
     "text": [
      "/opt/conda/lib/python3.11/site-packages/colbert/utils/amp.py:12: FutureWarning: `torch.cuda.amp.GradScaler(args...)` is deprecated. Please use `torch.amp.GradScaler('cuda', args...)` instead.\n",
      "  self.scaler = torch.cuda.amp.GradScaler()\n"
     ]
    },
    {
     "name": "stdout",
     "output_type": "stream",
     "text": [
      "Initializing QA model and entity extraction models...\n"
     ]
    },
    {
     "data": {
      "application/vnd.jupyter.widget-view+json": {
       "model_id": "1f7d686dabcb4db8855d96d7b7ebeb87",
       "version_major": 2,
       "version_minor": 0
      },
      "text/plain": [
       "Fetching 10 files:   0%|          | 0/10 [00:00<?, ?it/s]"
      ]
     },
     "metadata": {},
     "output_type": "display_data"
    },
    {
     "name": "stdout",
     "output_type": "stream",
     "text": [
      "Models initialized successfully!\n"
     ]
    }
   ],
   "source": [
    "#initialize\n",
    "rade = RADE(doc_int_key=key, doc_int_endpoint=endpoint)"
   ]
  },
  {
   "cell_type": "markdown",
   "metadata": {
    "application/vnd.databricks.v1+cell": {
     "cellMetadata": {
      "byteLimit": 2048000,
      "rowLimit": 10000
     },
     "inputWidgets": {},
     "nuid": "30fd204a-cd1c-4f77-b441-9dea68ce0211",
     "showTitle": false,
     "tableResultSettingsMap": {},
     "title": ""
    }
   },
   "source": [
    "## 📄 Step 2 – Add a PDF Document"
   ]
  },
  {
   "cell_type": "code",
   "execution_count": 4,
   "metadata": {
    "application/vnd.databricks.v1+cell": {
     "cellMetadata": {
      "byteLimit": 2048000,
      "rowLimit": 10000
     },
     "inputWidgets": {},
     "nuid": "91521948-923c-437d-ba74-90caa9e7261a",
     "showTitle": false,
     "tableResultSettingsMap": {},
     "title": ""
    }
   },
   "outputs": [
    {
     "name": "stdout",
     "output_type": "stream",
     "text": [
      "📄 Loading document: 1\n"
     ]
    }
   ],
   "source": [
    "# ✅ Define additional QA Queries\n",
    "\n",
    "pdf_path = \"./data/living-trust-forms-03_Ileana Hardison Rev Family Trust DTD 05052010.pdf\"\n",
    "\n",
    "rade.add_document(pdf_path, 1)"
   ]
  },
  {
   "cell_type": "markdown",
   "metadata": {
    "application/vnd.databricks.v1+cell": {
     "cellMetadata": {
      "byteLimit": 2048000,
      "rowLimit": 10000
     },
     "inputWidgets": {},
     "nuid": "e4fa300a-b07e-4687-a788-fea656810802",
     "showTitle": false,
     "tableResultSettingsMap": {},
     "title": ""
    }
   },
   "source": [
    "📚 Step 3 – encode the document in memory"
   ]
  },
  {
   "cell_type": "code",
   "execution_count": 5,
   "metadata": {
    "application/vnd.databricks.v1+cell": {
     "cellMetadata": {
      "byteLimit": 2048000,
      "rowLimit": 10000
     },
     "inputWidgets": {},
     "nuid": "da50406a-113a-494b-bd9f-2a5d638575c8",
     "showTitle": false,
     "tableResultSettingsMap": {},
     "title": ""
    }
   },
   "outputs": [
    {
     "name": "stdout",
     "output_type": "stream",
     "text": [
      "Encoding document in memory...\n",
      "Encoding 17 documents...\n"
     ]
    },
    {
     "name": "stderr",
     "output_type": "stream",
     "text": [
      "  0%|          | 0/1 [00:00<?, ?it/s]/opt/conda/lib/python3.11/site-packages/colbert/utils/amp.py:15: FutureWarning: `torch.cuda.amp.autocast(args...)` is deprecated. Please use `torch.amp.autocast('cuda', args...)` instead.\n",
      "  return torch.cuda.amp.autocast() if self.activated else NullContextManager()\n",
      "100%|██████████| 1/1 [00:00<00:00,  5.80it/s]"
     ]
    },
    {
     "name": "stdout",
     "output_type": "stream",
     "text": [
      "Shapes:\n",
      "encodings: torch.Size([17, 508, 128])\n",
      "doc_masks: torch.Size([17, 508])\n",
      "Documents encoded!\n"
     ]
    },
    {
     "name": "stderr",
     "output_type": "stream",
     "text": [
      "\n"
     ]
    }
   ],
   "source": [
    "rade.encode_docuemnt()"
   ]
  },
  {
   "cell_type": "markdown",
   "metadata": {
    "application/vnd.databricks.v1+cell": {
     "cellMetadata": {
      "byteLimit": 2048000,
      "rowLimit": 10000
     },
     "inputWidgets": {},
     "nuid": "f837ca37-5f40-481b-8110-cecd498479cc",
     "showTitle": false,
     "tableResultSettingsMap": {},
     "title": ""
    }
   },
   "source": [
    "🔍 Step 4 – Retrieve Top-k Pages for a Query"
   ]
  },
  {
   "cell_type": "code",
   "execution_count": 6,
   "metadata": {
    "application/vnd.databricks.v1+cell": {
     "cellMetadata": {
      "byteLimit": 2048000,
      "rowLimit": 10000
     },
     "inputWidgets": {},
     "nuid": "10e65be4-1bed-420f-beba-84c90c21ef04",
     "showTitle": false,
     "tableResultSettingsMap": {},
     "title": ""
    }
   },
   "outputs": [
    {
     "name": "stdout",
     "output_type": "stream",
     "text": [
      "📄 Result #0 \n",
      " Page 2 | Score: 19.90 | DocName: living-trust-forms-03_Ileana Hardison Rev Family Trust DTD 05052010.pdf\n",
      "NONPUBLIC//FDIC INTERNAL ONLY\n",
      "Beneficiaries\n",
      "4. Upon the death of the Grantor, the following individual(s) will comprise the beneficiaries (the \"Beneficiaries\") of this Living Trust:\n",
      "a. The residuary beneficiary, Nancy Zill _of_46554 Pacifica, Eureka, California_, ; and The residuary beneficiary, Johnny Taylor of 1967 Pikes Peak Way, Colorado Springs, Colorado\n",
      "b. Any heir or issue of those beneficiaries that is entitled to a benefit under this Living Trust in the place of any then deceased beneficiary.\n",
      "Ownership of Property\n",
      "5. The Grantor presently owns property (the \"Property\") as described in Schedule A.\n",
      "Assign and Convey Property to Living Trust\n",
      "6. Ileana B. Hardison , as Grantor, has or will assign, convey and deliver all of the rights, title and interest in the Property as described in Schedule A of this document as a gift and without consideration, to be held by this Living Trust.\n",
      "Amendment During Grantor's Lifetime\n",
      "7. At any time during the lifetime of the Grantor and while the Grantor is not Incapacitated, the Grantor may, subject to the other provisions of this section, alter or amend this Living\n",
      "📄 Result #1 \n",
      " Page 1 | Score: 19.43 | DocName: living-trust-forms-03_Ileana Hardison Rev Family Trust DTD 05052010.pdf\n",
      "NONPUBLIC//FDIC INTERNAL ONLY\n",
      "The Ileana Hardison Family _ Revocable Living Trust\n",
      "I, Ileana Hardison , presently of 987 Santa Clara Street, Santa Clara, California_, (the \"Grantor\") declare and make this revocable living trust (the \"Living Trust\"). This Living Trust will be known as The Ileana Hardison Family Revocable Living Trust.\n",
      "Trust Purpose\n",
      "1. This Living Trust is created for the benefit of the Beneficiaries to ensure they are well provided for after the death of the Grantor, however during the lifetime of the Grantor, the interests of the Grantor will be considered primary and superior to the interests of the Beneficiaries. With this purpose, the primary asset management goal for this Living Trust will be the protection of the value of the Property. The secondary asset management goal for this Living Trust is to generate income and growth at a reasonable risk.\n",
      "Trustee\n",
      "2. During the lifetime of the Grantor, and while the Grantor is not Incapacitated, the Grantor will serve as the primary trustee (the \"Primary Trustee\") and the Acting Trustee of this Living Trust.\n",
      "3. Upon the death of or during the Incapacity of the Grantor, then _Thomas Hardison of 987 Santa Clara Street, Santa Clara, California , (the \"Successor Trustee\") will serve as the Acting Trustee of this Living Trust. If the Grantor should recover such that they are no longer considered Incapacitated then the Grantor will resume their control of the management of this Living Trust.\n",
      "📄 Result #2 \n",
      " Page 17 | Score: 19.30 | DocName: living-trust-forms-03_Ileana Hardison Rev Family Trust DTD 05052010.pdf\n",
      "NONPUBLIC//FDIC INTERNAL ONLY\n",
      "Given under my hand this 5th day of May , 2010 ·\n",
      "Notary Public for the State of Alabama\n",
      "My commission expires:\n",
      "The Grantor assigns, conveys and delivers to this Living Trust, all of the rights, title and interest, tangible or intangible, to the following properties, real or personal:\n",
      "1.\n"
     ]
    }
   ],
   "source": [
    "results = rade.search_encoded_docs([\"Who are the grantors\"], k=3)\n",
    "for idx, r in enumerate(results):\n",
    "    print(f\"📄 Result #{idx} \\n Page {r.page.page_num} | Score: {r.score:.2f} | DocName: {r.page.doc_name}\")\n",
    "    print(r.page.text)\n",
    "\n",
    "#Call clear after every run\n",
    "# rade.retrieval_model.clear_encoded_docs()"
   ]
  },
  {
   "cell_type": "markdown",
   "metadata": {
    "application/vnd.databricks.v1+cell": {
     "cellMetadata": {},
     "inputWidgets": {},
     "nuid": "c7620089-1099-4a5c-a508-f01ae1840f85",
     "showTitle": false,
     "tableResultSettingsMap": {},
     "title": ""
    }
   },
   "source": [
    "---"
   ]
  },
  {
   "cell_type": "markdown",
   "metadata": {
    "application/vnd.databricks.v1+cell": {
     "cellMetadata": {},
     "inputWidgets": {},
     "nuid": "f3d2d76b-0554-45ca-b03a-e971206232de",
     "showTitle": false,
     "tableResultSettingsMap": {},
     "title": ""
    }
   },
   "source": [
    "## Section 2 🔍 RADE Trust Document Analyzer -  Entity and QA Extraction from Trust Documents\n",
    "\n",
    "This section supports:\n",
    "- Named Entity Recognition (NER) using GLiNER for labeled entity queries\n",
    "- Question Answering (QA) using RoBERTa for direct questions\n",
    "\n",
    "Each result:\n",
    "- Retrieves top-k chunks via ColBERT\n",
    "- Runs either QA or NER based on the query type\n",
    "- Presents results interactively using arrows to flip through top passages\n",
    "\n"
   ]
  },
  {
   "cell_type": "markdown",
   "metadata": {
    "application/vnd.databricks.v1+cell": {
     "cellMetadata": {},
     "inputWidgets": {},
     "nuid": "9feec434-f538-4586-9c81-62cf015b3b16",
     "showTitle": false,
     "tableResultSettingsMap": {},
     "title": ""
    }
   },
   "source": [
    "### Step1 🧩 – Define Query-to-Label Mapping\n",
    "\n",
    "Use the schema as below:\n",
    "\n",
    "```python\n",
    "{\n",
    "  \"Who are the Grantors?\": {\n",
    "    \"type\": \"ner\",\n",
    "    \"labels\": [\"Grantor_Settlor\"]\n",
    "  },\n",
    "  \"Who are the primary Trustees?\": {\n",
    "    \"type\": \"ner\",\n",
    "    \"labels\": [\"Trustee: Primary_Trustee\"]\n",
    "  },\n",
    "  \"Who are the Successor Trustees?\": {\n",
    "    \"type\": \"ner\",\n",
    "    \"labels\": [\"Successor_Secondary Trustee\"]\n",
    "  },\n",
    "  \"Who are the primary Beneficiaries?\": {\n",
    "    \"type\": \"ner\",\n",
    "    \"labels\": [\"Beneficiary: Primary Beneficiary\"]\n",
    "  },\n",
    "  \"Who are the Successor Beneficiaries?\": {\n",
    "    \"type\": \"ner\",\n",
    "    \"labels\": [\"Successor_Beneficiary\"]\n",
    "  },\n",
    "  \"What is the name of the trust?\": {\n",
    "    \"type\": \"qa\",\n",
    "    \"labels\": []\n",
    "  },\n",
    "  \"What is the date of the trust?\": {\n",
    "    \"type\": \"qa\",\n",
    "    \"labels\": []\n",
    "  },\n",
    "  \"Is this trust revocable or irrevocable?\": {\n",
    "    \"type\": \"qa\",\n",
    "    \"labels\": []\n",
    "  }\n",
    "}\n",
    "\n"
   ]
  },
  {
   "cell_type": "code",
   "execution_count": 7,
   "metadata": {
    "application/vnd.databricks.v1+cell": {
     "cellMetadata": {
      "byteLimit": 2048000,
      "rowLimit": 10000
     },
     "inputWidgets": {},
     "nuid": "04617ce6-bade-48aa-8886-c6ef456afaf0",
     "showTitle": false,
     "tableResultSettingsMap": {},
     "title": ""
    }
   },
   "outputs": [],
   "source": [
    "#read query file\n",
    "import json\n",
    "query_file = \"data/query_plan.json\"\n",
    "with open(query_file, \"r\") as j:\n",
    "    query_plan = json.load(j)\n"
   ]
  },
  {
   "cell_type": "code",
   "execution_count": 8,
   "metadata": {
    "application/vnd.databricks.v1+cell": {
     "cellMetadata": {
      "byteLimit": 2048000,
      "rowLimit": 10000
     },
     "inputWidgets": {},
     "nuid": "93052973-4e8f-42bf-a544-5f05bca748ce",
     "showTitle": false,
     "tableResultSettingsMap": {},
     "title": ""
    }
   },
   "outputs": [],
   "source": [
    "#function to use RADE extractive model\n",
    "def extract_entities_per_page(rade, retrieved_pages, labels):\n",
    "    page_entities = {}\n",
    "\n",
    "    for rp in retrieved_pages:\n",
    "        text = rp.page.text.replace(\"\\n\", \" \")\n",
    "        entities = rade.entity_extraction_model.predict_entities(text, labels)\n",
    "        key = f\"{rp.page.doc_name}_page{rp.page.page_num}\"\n",
    "        page_entities[key] = entities\n",
    "\n",
    "    return page_entities\n"
   ]
  },
  {
   "cell_type": "markdown",
   "metadata": {
    "application/vnd.databricks.v1+cell": {
     "cellMetadata": {},
     "inputWidgets": {},
     "nuid": "1034fe83-857d-4289-b11a-b7197a70b09e",
     "showTitle": false,
     "tableResultSettingsMap": {},
     "title": ""
    }
   },
   "source": [
    "## 🧠 Step 2 – Run RADE: Parse + Index + Query"
   ]
  },
  {
   "cell_type": "code",
   "execution_count": 9,
   "metadata": {
    "application/vnd.databricks.v1+cell": {
     "cellMetadata": {
      "byteLimit": 2048000,
      "rowLimit": 10000
     },
     "inputWidgets": {},
     "nuid": "662a17fc-9468-4a2d-89c9-37cfe0978abe",
     "showTitle": false,
     "tableResultSettingsMap": {},
     "title": ""
    }
   },
   "outputs": [
    {
     "name": "stderr",
     "output_type": "stream",
     "text": [
      "Asking to truncate to max_length but no maximum length is provided and the model has no predefined maximum length. Default to no truncation.\n",
      "/opt/conda/lib/python3.11/site-packages/gliner/data_processing/processor.py:410: UserWarning: Sentence of length 788 has been truncated to 768\n",
      "  warnings.warn(f\"Sentence of length {len(tokens)} has been truncated to {max_len}\")\n",
      "/opt/conda/lib/python3.11/site-packages/gliner/data_processing/processor.py:410: UserWarning: Sentence of length 861 has been truncated to 768\n",
      "  warnings.warn(f\"Sentence of length {len(tokens)} has been truncated to {max_len}\")\n"
     ]
    }
   ],
   "source": [
    "#Run queries and following NER and QA pipelines with Rade\n",
    "query_results = []\n",
    "\n",
    "for query, meta in query_plan.items():\n",
    "    retrieved = rade.search_encoded_docs([query], 3)\n",
    "\n",
    "    if meta[\"type\"] == \"qa\":\n",
    "        qa_result = rade.run_qa_pipeline(\n",
    "            question=query,\n",
    "            retrieved_texts=[\n",
    "                {\n",
    "                    \"content\": rp.page.text,\n",
    "                    \"document_metadata\": {\n",
    "                        \"document\": rp.page.doc_name,\n",
    "                        \"page\": rp.page.page_num\n",
    "                    }\n",
    "                } for rp in retrieved\n",
    "            ]\n",
    "        )\n",
    "        query_results.append({\n",
    "            \"query\": query,\n",
    "            \"type\": \"qa\",\n",
    "            \"labels\": [],\n",
    "            \"results\": retrieved,\n",
    "            \"qa\": qa_result,\n",
    "            \"entities\": {}\n",
    "        })\n",
    "\n",
    "    elif meta[\"type\"] == \"ner\":\n",
    "        retrieved_texts = [\n",
    "            {\n",
    "                \"content\": rp.page.text,\n",
    "                \"document_metadata\": {\n",
    "                    \"document\": rp.page.doc_name,\n",
    "                    \"page\": rp.page.page_num\n",
    "                }\n",
    "            } for rp in retrieved\n",
    "        ]\n",
    "\n",
    "        entity_result = rade.extract_entities_with_gliner(\n",
    "            retrieved_texts=retrieved_texts,\n",
    "            labels=meta[\"labels\"],\n",
    "            threshold=0.3\n",
    "        )\n",
    "\n",
    "        query_results.append({\n",
    "            \"query\": query,\n",
    "            \"type\": \"ner\",\n",
    "            \"labels\": meta[\"labels\"],\n",
    "            \"results\": retrieved,\n",
    "            \"qa\": None,\n",
    "            \"entities\": {\n",
    "                f\"{r['document']}_page{r['page']}\": [\n",
    "                    e for e in entity_result[\"entities\"]\n",
    "                    if e in entity_result[\"entities\"]\n",
    "                ]\n",
    "                for r in entity_result[\"retrieved\"]\n",
    "            }\n",
    "        })\n"
   ]
  },
  {
   "cell_type": "code",
   "execution_count": 10,
   "metadata": {},
   "outputs": [],
   "source": [
    "def normalize_retrieved_pages(data):\n",
    "    normalized = []\n",
    "    for item in data:\n",
    "        normalized.append({\n",
    "            \"query\": item['query'],\n",
    "            \"type\": item['type'],\n",
    "            \"labels\": item['labels'],\n",
    "            \"results\": [\n",
    "                {\n",
    "                    \"doc_id\": r.page.doc_id,\n",
    "                    \"doc_name\": r.page.doc_name,\n",
    "                    \"page_num\": r.page.page_num,\n",
    "                    \"text\": r.page.text\n",
    "                } for r in item['results']\n",
    "            ]\n",
    "        })\n",
    "    return normalized\n"
   ]
  },
  {
   "cell_type": "code",
   "execution_count": 11,
   "metadata": {},
   "outputs": [],
   "source": [
    "normalized_data = normalize_retrieved_pages(query_results)\n",
    "\n",
    "with open(\"./data/rade_ecoder_query_result.json\", \"w\") as f:\n",
    "    json.dump(normalized_data, f, indent=4)"
   ]
  },
  {
   "cell_type": "markdown",
   "metadata": {
    "application/vnd.databricks.v1+cell": {
     "cellMetadata": {},
     "inputWidgets": {},
     "nuid": "976491d0-bb88-4a61-a824-3342a6577ef8",
     "showTitle": false,
     "tableResultSettingsMap": {},
     "title": ""
    }
   },
   "source": [
    "## Step 3 - Visualize"
   ]
  },
  {
   "cell_type": "code",
   "execution_count": 12,
   "metadata": {
    "application/vnd.databricks.v1+cell": {
     "cellMetadata": {
      "byteLimit": 2048000,
      "rowLimit": 10000
     },
     "inputWidgets": {},
     "nuid": "4b2454f2-1a4b-44eb-9e93-ee30f59949a6",
     "showTitle": false,
     "tableResultSettingsMap": {},
     "title": ""
    }
   },
   "outputs": [],
   "source": [
    "import html\n",
    "import ipywidgets as widgets\n",
    "from IPython.display import display, Markdown, HTML, clear_output\n",
    "\n",
    "def highlight_entities(text: str, entities: list, highlight_answer: str = None) -> str:\n",
    "    \"\"\"\n",
    "    Highlight QA answer and NER entities using bright yellow <mark>.\n",
    "    \"\"\"\n",
    "    text = html.escape(text)\n",
    "\n",
    "    # Highlight QA answer (first)\n",
    "    if highlight_answer:\n",
    "        safe_answer = html.escape(highlight_answer.strip())\n",
    "        if safe_answer and safe_answer in text:\n",
    "            text = text.replace(\n",
    "                safe_answer,\n",
    "                f'<mark style=\"background-color:yellow\" title=\"QA Answer\">{safe_answer}</mark>'\n",
    "            )\n",
    "\n",
    "    # Highlight NER entities\n",
    "    entities = sorted(entities, key=lambda e: -len(e['text']))\n",
    "    for ent in entities:\n",
    "        safe_text = html.escape(ent[\"text\"])\n",
    "        label = html.escape(ent[\"label\"])\n",
    "        score = ent.get(\"score\", None)\n",
    "        tooltip = f\"{label}\" + (f\" ({score:.2f})\" if score else \"\")\n",
    "        text = text.replace(\n",
    "            safe_text,\n",
    "            f'<mark style=\"background-color:yellow\" title=\"{tooltip}\">{safe_text}</mark>'\n",
    "        )\n",
    "\n",
    "    return text\n",
    "\n",
    "\n",
    "def show_query_results(query_result: dict):\n",
    "    query = query_result[\"query\"]\n",
    "    query_type = query_result[\"type\"]\n",
    "    pages = query_result[\"results\"]\n",
    "    entity_map = query_result[\"entities\"]\n",
    "    qa = query_result[\"qa\"]\n",
    "\n",
    "    index = widgets.IntText(value=0, layout=widgets.Layout(width=\"40px\"), disabled=True)\n",
    "    output = widgets.Output()\n",
    "\n",
    "    prev_button = widgets.Button(description=\"◀️ Prev\", layout=widgets.Layout(width=\"80px\"))\n",
    "    next_button = widgets.Button(description=\"Next ▶️\", layout=widgets.Layout(width=\"80px\"))\n",
    "    nav_box = widgets.HBox([prev_button, index, next_button])\n",
    "\n",
    "    def render_page(i):\n",
    "        with output:\n",
    "            clear_output(wait=True)\n",
    "            page = pages[i].page\n",
    "            score = pages[i].score\n",
    "            key = f\"{page.doc_name}_page{page.page_num}\"\n",
    "            ents = entity_map.get(key, []) if query_type == \"ner\" else []\n",
    "\n",
    "            display(Markdown(f\"## 🔎 Query: `{query}`\"))\n",
    "\n",
    "            if query_type == \"qa\":\n",
    "                answer = qa.get(\"answer\", \"[No answer]\")\n",
    "                display(Markdown(f\"### 🤖 QA Answer: `{answer}`\"))\n",
    "            else:\n",
    "                answer = None  # Not used\n",
    "\n",
    "            display(Markdown(f\"**📄 Page {page.page_num} — Score: `{score:.2f}` — File: `{page.doc_name}`**\"))\n",
    "\n",
    "            highlighted_text = highlight_entities(\n",
    "                text=page.text[:3000],\n",
    "                entities=ents,\n",
    "                highlight_answer=answer\n",
    "            )\n",
    "\n",
    "            display(HTML(f\"<pre style='line-height:1.5;font-family:monospace'>{highlighted_text}</pre>\"))\n",
    "\n",
    "    def on_prev_clicked(_):\n",
    "        if index.value > 0:\n",
    "            index.value -= 1\n",
    "            render_page(index.value)\n",
    "\n",
    "    def on_next_clicked(_):\n",
    "        if index.value < len(pages) - 1:\n",
    "            index.value += 1\n",
    "            render_page(index.value)\n",
    "\n",
    "    prev_button.on_click(on_prev_clicked)\n",
    "    next_button.on_click(on_next_clicked)\n",
    "\n",
    "    display(nav_box, output)\n",
    "    render_page(index.value)\n"
   ]
  },
  {
   "cell_type": "code",
   "execution_count": 13,
   "metadata": {
    "application/vnd.databricks.v1+cell": {
     "cellMetadata": {
      "byteLimit": 2048000,
      "rowLimit": 10000
     },
     "inputWidgets": {},
     "nuid": "517533dd-cd27-43e5-9100-94ed5baac093",
     "showTitle": false,
     "tableResultSettingsMap": {},
     "title": ""
    }
   },
   "outputs": [
    {
     "data": {
      "application/vnd.jupyter.widget-view+json": {
       "model_id": "1ac606dc8f45442f99f70122ea712410",
       "version_major": 2,
       "version_minor": 0
      },
      "text/plain": [
       "HBox(children=(Button(description='◀️ Prev', layout=Layout(width='80px'), style=ButtonStyle()), IntText(value=…"
      ]
     },
     "metadata": {},
     "output_type": "display_data"
    },
    {
     "data": {
      "application/vnd.jupyter.widget-view+json": {
       "model_id": "e4cdd092605a477a8402b3a48b14ad9e",
       "version_major": 2,
       "version_minor": 0
      },
      "text/plain": [
       "Output()"
      ]
     },
     "metadata": {},
     "output_type": "display_data"
    },
    {
     "data": {
      "application/vnd.jupyter.widget-view+json": {
       "model_id": "6b09061c43074c9f9e5ca90c4e35d651",
       "version_major": 2,
       "version_minor": 0
      },
      "text/plain": [
       "HBox(children=(Button(description='◀️ Prev', layout=Layout(width='80px'), style=ButtonStyle()), IntText(value=…"
      ]
     },
     "metadata": {},
     "output_type": "display_data"
    },
    {
     "data": {
      "application/vnd.jupyter.widget-view+json": {
       "model_id": "21f295eb9ad040328f730f23893232c8",
       "version_major": 2,
       "version_minor": 0
      },
      "text/plain": [
       "Output()"
      ]
     },
     "metadata": {},
     "output_type": "display_data"
    },
    {
     "data": {
      "application/vnd.jupyter.widget-view+json": {
       "model_id": "57e76e969c074bd9b50a87b5b244a97a",
       "version_major": 2,
       "version_minor": 0
      },
      "text/plain": [
       "HBox(children=(Button(description='◀️ Prev', layout=Layout(width='80px'), style=ButtonStyle()), IntText(value=…"
      ]
     },
     "metadata": {},
     "output_type": "display_data"
    },
    {
     "data": {
      "application/vnd.jupyter.widget-view+json": {
       "model_id": "80c7152473074c128353b8b4387ba4db",
       "version_major": 2,
       "version_minor": 0
      },
      "text/plain": [
       "Output()"
      ]
     },
     "metadata": {},
     "output_type": "display_data"
    },
    {
     "data": {
      "application/vnd.jupyter.widget-view+json": {
       "model_id": "06a6254fc16948749aad1f874903b7ee",
       "version_major": 2,
       "version_minor": 0
      },
      "text/plain": [
       "HBox(children=(Button(description='◀️ Prev', layout=Layout(width='80px'), style=ButtonStyle()), IntText(value=…"
      ]
     },
     "metadata": {},
     "output_type": "display_data"
    },
    {
     "data": {
      "application/vnd.jupyter.widget-view+json": {
       "model_id": "a70d35356bae4849bb5c399512706101",
       "version_major": 2,
       "version_minor": 0
      },
      "text/plain": [
       "Output()"
      ]
     },
     "metadata": {},
     "output_type": "display_data"
    },
    {
     "data": {
      "application/vnd.jupyter.widget-view+json": {
       "model_id": "f4ead109905343dea394450aad8102c3",
       "version_major": 2,
       "version_minor": 0
      },
      "text/plain": [
       "HBox(children=(Button(description='◀️ Prev', layout=Layout(width='80px'), style=ButtonStyle()), IntText(value=…"
      ]
     },
     "metadata": {},
     "output_type": "display_data"
    },
    {
     "data": {
      "application/vnd.jupyter.widget-view+json": {
       "model_id": "63438a423c954444a5d7a2673e587682",
       "version_major": 2,
       "version_minor": 0
      },
      "text/plain": [
       "Output()"
      ]
     },
     "metadata": {},
     "output_type": "display_data"
    },
    {
     "data": {
      "application/vnd.jupyter.widget-view+json": {
       "model_id": "65eddcdfb26943fba035706d7c992e43",
       "version_major": 2,
       "version_minor": 0
      },
      "text/plain": [
       "HBox(children=(Button(description='◀️ Prev', layout=Layout(width='80px'), style=ButtonStyle()), IntText(value=…"
      ]
     },
     "metadata": {},
     "output_type": "display_data"
    },
    {
     "data": {
      "application/vnd.jupyter.widget-view+json": {
       "model_id": "339c522e83264352883b05cdffb33d8c",
       "version_major": 2,
       "version_minor": 0
      },
      "text/plain": [
       "Output()"
      ]
     },
     "metadata": {},
     "output_type": "display_data"
    },
    {
     "data": {
      "application/vnd.jupyter.widget-view+json": {
       "model_id": "73057f215b094800ae2d3771b48b4c89",
       "version_major": 2,
       "version_minor": 0
      },
      "text/plain": [
       "HBox(children=(Button(description='◀️ Prev', layout=Layout(width='80px'), style=ButtonStyle()), IntText(value=…"
      ]
     },
     "metadata": {},
     "output_type": "display_data"
    },
    {
     "data": {
      "application/vnd.jupyter.widget-view+json": {
       "model_id": "cd9d1df7282c49cdbaff13125bd92f58",
       "version_major": 2,
       "version_minor": 0
      },
      "text/plain": [
       "Output()"
      ]
     },
     "metadata": {},
     "output_type": "display_data"
    },
    {
     "data": {
      "application/vnd.jupyter.widget-view+json": {
       "model_id": "d27068983e9b41cfbbed8f6658b26e06",
       "version_major": 2,
       "version_minor": 0
      },
      "text/plain": [
       "HBox(children=(Button(description='◀️ Prev', layout=Layout(width='80px'), style=ButtonStyle()), IntText(value=…"
      ]
     },
     "metadata": {},
     "output_type": "display_data"
    },
    {
     "data": {
      "application/vnd.jupyter.widget-view+json": {
       "model_id": "e9bc969ca4344c2a90f4c3816952d011",
       "version_major": 2,
       "version_minor": 0
      },
      "text/plain": [
       "Output()"
      ]
     },
     "metadata": {},
     "output_type": "display_data"
    }
   ],
   "source": [
    "for result in query_results:\n",
    "    show_query_results(result)\n",
    "\n"
   ]
  }
 ],
 "metadata": {
  "application/vnd.databricks.v1+notebook": {
   "computePreferences": null,
   "dashboards": [],
   "environmentMetadata": null,
   "inputWidgetPreferences": null,
   "language": "python",
   "notebookMetadata": {
    "mostRecentlyExecutedCommandWithImplicitDF": {
     "commandId": 6817041263733074,
     "dataframes": [
      "_sqldf"
     ]
    },
    "pythonIndentUnit": 4
   },
   "notebookName": "RADE_Pipeline_encoder",
   "widgets": {}
  },
  "kernelspec": {
   "display_name": "Python 3 (ipykernel)",
   "language": "python",
   "name": "python3"
  },
  "language_info": {
   "codemirror_mode": {
    "name": "ipython",
    "version": 3
   },
   "file_extension": ".py",
   "mimetype": "text/x-python",
   "name": "python",
   "nbconvert_exporter": "python",
   "pygments_lexer": "ipython3",
   "version": "3.11.10"
  }
 },
 "nbformat": 4,
 "nbformat_minor": 4
}
