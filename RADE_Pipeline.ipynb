{
 "cells": [
  {
   "cell_type": "code",
   "execution_count": 0,
   "metadata": {
    "application/vnd.databricks.v1+cell": {
     "cellMetadata": {
      "byteLimit": 2048000,
      "rowLimit": 10000
     },
     "inputWidgets": {},
     "nuid": "baddd7a5-4adf-4182-a991-0cb819a8b729",
     "showTitle": false,
     "tableResultSettingsMap": {},
     "title": ""
    }
   },
   "outputs": [],
   "source": [
    "%sh\n",
    "sudo apt-get update -y\n",
    "sudo apt-get install -y poppler-utils\n",
    "\n"
   ]
  },
  {
   "cell_type": "code",
   "execution_count": 0,
   "metadata": {
    "application/vnd.databricks.v1+cell": {
     "cellMetadata": {
      "byteLimit": 2048000,
      "rowLimit": 10000
     },
     "inputWidgets": {},
     "nuid": "abcb5669-b02e-4664-a939-588e88a56ae3",
     "showTitle": false,
     "tableResultSettingsMap": {},
     "title": ""
    }
   },
   "outputs": [],
   "source": [
    "!pip install --requirement requirements.txt\n",
    "dbutils.library.restartPython() "
   ]
  },
  {
   "cell_type": "code",
   "execution_count": 0,
   "metadata": {
    "application/vnd.databricks.v1+cell": {
     "cellMetadata": {
      "byteLimit": 2048000,
      "rowLimit": 10000
     },
     "inputWidgets": {},
     "nuid": "c5218498-8875-4d80-b9ad-872e0fff8e75",
     "showTitle": false,
     "tableResultSettingsMap": {},
     "title": ""
    }
   },
   "outputs": [],
   "source": [
    "dbutils.library.restartPython() "
   ]
  },
  {
   "cell_type": "code",
   "execution_count": 0,
   "metadata": {
    "application/vnd.databricks.v1+cell": {
     "cellMetadata": {
      "byteLimit": 2048000,
      "rowLimit": 10000
     },
     "inputWidgets": {},
     "nuid": "a416d813-b9ee-4dd6-bcb6-aabb875e2b01",
     "showTitle": false,
     "tableResultSettingsMap": {},
     "title": ""
    }
   },
   "outputs": [],
   "source": [
    "from rade import RADE, RetrievedPage, DocumentPage\n",
    "from utils.azure_doc_intel import parse_azureDocIntell"
   ]
  },
  {
   "cell_type": "code",
   "execution_count": 0,
   "metadata": {
    "application/vnd.databricks.v1+cell": {
     "cellMetadata": {
      "byteLimit": 2048000,
      "rowLimit": 10000
     },
     "inputWidgets": {},
     "nuid": "3270fa71-4cb5-41e9-a4d2-2a62160ef315",
     "showTitle": false,
     "tableResultSettingsMap": {},
     "title": ""
    }
   },
   "outputs": [],
   "source": [
    "#test the class\n",
    "\n",
    "import time\n",
    "import torch\n",
    "from tqdm import tqdm\n",
    "import os\n",
    "# Directory containing PDF files\n",
    "pdf_dir = \"/Volumes/dopdatabricks/trustdocs/doc_analyzer_uploads/in/\"  \n",
    "pdf_files = [os.path.join(pdf_dir, f) for f in os.listdir(pdf_dir) if f.endswith(\".pdf\")]\n",
    "\n",
    "if not pdf_files:\n",
    "    print(f\"No PDF files found in directory: {pdf_dir}\")\n",
    "\n",
    "\n",
    "# # Start timing execution\n",
    "# start_time = time.time()\n",
    "\n",
    "pdf_path = pdf_files[:1]\n",
    "\n",
    "# # Clear GPU cache before loading model\n",
    "torch.cuda.empty_cache()\n",
    "\n",
    "# # Instantiate RADE\n",
    "gliner = \"knowledgator/gliner-multitask-large-v0.5\"\n",
    "colpali_model = \"vidore/colpali-v1.3\"\n",
    "rade = RADE(retrieval_model_name=colpali_model, \n",
    "            qa_model_name= \"deepset/roberta-base-squad2\",  \n",
    "            entity_extraction_model= \"knowledgator/gliner-multitask-large-v0.5\",\n",
    "            use_flash_attention=False, max_pages=3)"
   ]
  },
  {
   "cell_type": "code",
   "execution_count": 0,
   "metadata": {
    "application/vnd.databricks.v1+cell": {
     "cellMetadata": {
      "byteLimit": 2048000,
      "rowLimit": 10000
     },
     "inputWidgets": {},
     "nuid": "88e25b97-f367-4b5a-90eb-3237bbe11dab",
     "showTitle": false,
     "tableResultSettingsMap": {},
     "title": ""
    }
   },
   "outputs": [],
   "source": [
    "# ✅ Define additional QA Queries\n",
    "# Directory containing PDF files\n",
    "\n",
    "pdf_dir = \"/Volumes/dopdatabricks/trustdocs/doc_analyzer_uploads/in/\" \n",
    "pdf_files = [os.path.join(pdf_dir, f) for f in os.listdir(pdf_dir) if f.endswith(\".pdf\")]\n",
    "\n",
    "if not pdf_files:\n",
    "    print(f\"No PDF files found in directory: {pdf_dir}\")\n",
    "        \n",
    "pdf_path = pdf_files[2]\n",
    "# pdf_path\n",
    "rade.add_document(pdf_path, 1)\n",
    "rade.build_index()\n"
   ]
  },
  {
   "cell_type": "code",
   "execution_count": 0,
   "metadata": {
    "application/vnd.databricks.v1+cell": {
     "cellMetadata": {
      "byteLimit": 2048000,
      "rowLimit": 10000
     },
     "inputWidgets": {},
     "nuid": "42a54efe-07cb-4dc8-9777-7849cba773e1",
     "showTitle": false,
     "tableResultSettingsMap": {},
     "title": ""
    }
   },
   "outputs": [],
   "source": [
    "# Define entity queries and corresponding labels\n",
    "entity_queries = [\n",
    "    \"GRANTOR: what are the Grantors names? (Grantor)\",\n",
    "    \"TRUSTEE: what are the Trustees names? (Trustee)\",\n",
    "    \"Successor TRUSTEE: what are the Successor Trustee names (SUCCESSOR TRUSTEE)?\",\n",
    "    \"BENEFCIARIES: what are the beneficiaries names (BENEFICIARIES)?\",\n",
    "    \"SUCCESSOR BENEFCIARIES: what are the Successor beneficiaries names (SUCCESSOR Beneficiary)? \"\n",
    "]\n",
    "labels_list = [\n",
    "    [\"Grantor names\"],\n",
    "    [\"Trustee Names\"],\n",
    "    [\"Successor Trustee Names\"],\n",
    "    [\"Beneficiary names\"],\n",
    "    [\"Successor Beneficiary Names\"],\n",
    "    [\"Trust Name\"],\n",
    "    [\"Trust Date\"],\n",
    "    [\"Revocable\", \"Irevocable\"],\n",
    "    \n",
    "]\n",
    "qa_queries = [\n",
    "    \"What is the name of this trust?\",\n",
    "    \"What is the date of this trust?\",\n",
    "    \"Is this trust revocable or irrevocable?\",\n",
    "]\n",
    "all_queries_dict = {\n",
    "    \"entity_queries\": entity_queries,\n",
    "    \"qa_queries\": qa_queries\n",
    "}\n"
   ]
  },
  {
   "cell_type": "code",
   "execution_count": 0,
   "metadata": {
    "application/vnd.databricks.v1+cell": {
     "cellMetadata": {
      "byteLimit": 2048000,
      "rowLimit": 10000
     },
     "inputWidgets": {},
     "nuid": "c3058ddd-2f6d-489f-a25f-22ce13feb105",
     "showTitle": false,
     "tableResultSettingsMap": {},
     "title": ""
    }
   },
   "outputs": [],
   "source": [
    "all_queries = all_queries_dict[\"entity_queries\"] + all_queries_dict[\"qa_queries\"]\n"
   ]
  },
  {
   "cell_type": "code",
   "execution_count": 0,
   "metadata": {
    "application/vnd.databricks.v1+cell": {
     "cellMetadata": {
      "byteLimit": 2048000,
      "rowLimit": 10000
     },
     "inputWidgets": {},
     "nuid": "a1534baa-eca8-494d-b279-2a539043483c",
     "showTitle": false,
     "tableResultSettingsMap": {},
     "title": ""
    }
   },
   "outputs": [],
   "source": [
    "search_result = rade.retrieve(all_queries)\n",
    "assert len(search_result) == len(all_queries)"
   ]
  },
  {
   "cell_type": "code",
   "execution_count": 0,
   "metadata": {
    "application/vnd.databricks.v1+cell": {
     "cellMetadata": {
      "byteLimit": 2048000,
      "rowLimit": 10000
     },
     "inputWidgets": {},
     "nuid": "e9415f37-7379-405c-ac3c-5e2964abbef7",
     "showTitle": false,
     "tableResultSettingsMap": {},
     "title": ""
    }
   },
   "outputs": [],
   "source": [
    "# Store results and parsed page contexts\n",
    "qa_results = []\n",
    "contexts_map = {}  # Dictionary to cache parsed pages\n",
    "\n",
    "for query_idx in tqdm(range(len(all_queries)), desc=\"Processing QA Queries\"):\n",
    "    query = all_queries[query_idx]\n",
    "    pages = search_result[query_idx]\n",
    "\n",
    "    all_pages = []\n",
    "    retrieved_page_nums = []\n",
    "    for page in pages:\n",
    "        page_num = page.page.page_num\n",
    "        retrieved_page_nums.append(str(page_num))\n",
    "\n",
    "        # Check if page has been parsed before\n",
    "        if page_num in contexts_map:\n",
    "            parsed = contexts_map[page_num]\n",
    "            print(f\"Using cached parsed result for page: {page_num}\")\n",
    "        else:\n",
    "            print(f\"Parsing new page: {page_num}\")\n",
    "            parsed = parse_azureDocIntell(page.page.image)\n",
    "            contexts_map[page_num] = parsed\n",
    "\n",
    "        all_pages.append(parsed)\n",
    "\n",
    "    # Combine parsed pages into a single string\n",
    "    combined_pages = \" \".join(all_pages) if all_pages else \"\"\n",
    "    page_nums = \" \".join(retrieved_page_nums) if retrieved_page_nums else \"\"\n",
    "\n",
    "    # print(f\"retrived pages {page_nums} \")\n",
    "    # Run QA model to extract answer\n",
    "    qa_answer = rade.run_qa_pipeline(query, combined_pages)\n",
    "\n",
    "    # Store result\n",
    "    qa_results.append({\n",
    "        \"query\": query,\n",
    "        \"retrieved_pages\": page_nums,\n",
    "        \"context\": combined_pages,\n",
    "        \"RoBerta Answer\": qa_answer\n",
    "    })\n"
   ]
  },
  {
   "cell_type": "code",
   "execution_count": 0,
   "metadata": {
    "application/vnd.databricks.v1+cell": {
     "cellMetadata": {
      "byteLimit": 2048000,
      "rowLimit": 10000
     },
     "inputWidgets": {},
     "nuid": "1521a3bc-58fb-42a6-b244-f70b34b004e6",
     "showTitle": false,
     "tableResultSettingsMap": {},
     "title": ""
    }
   },
   "outputs": [],
   "source": [
    "entity_results = []\n",
    "for query_idx in tqdm(range(len(all_queries)), desc=\"Processing Entity Queries\"):\n",
    "    query = all_queries[query_idx]\n",
    "    labels = labels_list[query_idx]\n",
    "    pages = search_result[query_idx]\n",
    "\n",
    "    all_pages = []\n",
    "    retrieved_page_nums = []\n",
    "    for page in pages:\n",
    "        page_num = page.page.page_num\n",
    "        retrieved_page_nums.append(str(page_num))\n",
    "        # Check if page has been parsed before\n",
    "        if page_num in contexts_map:\n",
    "            parsed = contexts_map[page_num]\n",
    "            print(f\"Using cached parsed result for page: {page_num}\")\n",
    "        else:\n",
    "            print(f\"Parsing new page: {page_num}\")\n",
    "            parsed = parse_azureDocIntell(page.page.image)\n",
    "            contexts_map[page_num] = parsed\n",
    "\n",
    "        all_pages.append(parsed)\n",
    "\n",
    "    # Combine parsed pages into a single string\n",
    "    combined_pages = \" \".join(all_pages) if all_pages else \"\"\n",
    "    \n",
    "    page_nums = \" \".join(retrieved_page_nums) if retrieved_page_nums else \"\"\n",
    "\n",
    "\n",
    "    # Extract entities from parsed text if only single gpu\n",
    "    entities = rade.extract_entities_with_gliner(combined_pages, labels)\n",
    "\n",
    "    # Store result\n",
    "    entity_results.append({\n",
    "        \"query\": query,\n",
    "        \"retrieved_pages\": page_nums,\n",
    "        \"context\": combined_pages,\n",
    "        \"GLiNER Answer\": entities\n",
    "    })"
   ]
  },
  {
   "cell_type": "code",
   "execution_count": 0,
   "metadata": {
    "application/vnd.databricks.v1+cell": {
     "cellMetadata": {
      "byteLimit": 2048000,
      "rowLimit": 10000
     },
     "inputWidgets": {},
     "nuid": "f2d8af8f-cc81-4f30-932c-b4d389007226",
     "showTitle": false,
     "tableResultSettingsMap": {},
     "title": ""
    }
   },
   "outputs": [],
   "source": [
    "import pandas as pd\n",
    "\n",
    "# Convert lists of dictionaries to pandas DataFrames\n",
    "df_entities = pd.DataFrame(entity_results)\n",
    "df_qa = pd.DataFrame(qa_results)\n",
    "\n",
    "# Perform the merge and prioritize 'context' from entity_results\n",
    "combined_df = pd.merge(\n",
    "    df_entities.drop(columns='context', errors='ignore'),  # Remove 'context' to avoid conflict\n",
    "    df_qa,\n",
    "    on='query',\n",
    "    suffixes=('_gliner', '_qa'),\n",
    "    how='outer'\n",
    ")\n",
    "\n",
    "combined_df.head(10)"
   ]
  },
  {
   "cell_type": "code",
   "execution_count": 0,
   "metadata": {
    "application/vnd.databricks.v1+cell": {
     "cellMetadata": {
      "byteLimit": 2048000,
      "rowLimit": 10000
     },
     "inputWidgets": {},
     "nuid": "f9332b2b-ab5f-47fb-8ecf-f60fbd541fe0",
     "showTitle": false,
     "tableResultSettingsMap": {},
     "title": ""
    }
   },
   "outputs": [],
   "source": [
    "# Define the output directory\n",
    "import os\n",
    "output_dir = \"output\"\n",
    "os.makedirs(output_dir, exist_ok=True)  # Ensure the output directory exists\n",
    "\n",
    "# Generate the filename based on the PDF file basename\n",
    "output_filename = os.path.splitext(os.path.basename(pdf_path))[0] + \"_results.csv\"\n",
    "\n",
    "# Save the combined DataFrame to the output directory\n",
    "output_file_path = os.path.join(output_dir, output_filename)\n",
    "combined_df.to_csv(output_file_path, index=False)\n",
    "\n",
    "print(f\"Combined DataFrame saved to: {output_file_path}\")"
   ]
  }
 ],
 "metadata": {
  "application/vnd.databricks.v1+notebook": {
   "computePreferences": null,
   "dashboards": [],
   "environmentMetadata": null,
   "language": "python",
   "notebookMetadata": {
    "mostRecentlyExecutedCommandWithImplicitDF": {
     "commandId": 8035156891869493,
     "dataframes": [
      "_sqldf"
     ]
    },
    "pythonIndentUnit": 4
   },
   "notebookName": "RADE_Pipeline",
   "widgets": {}
  },
  "kernelspec": {
   "display_name": "Python 3 (ipykernel)",
   "language": "python",
   "name": "python3"
  },
  "language_info": {
   "name": "python"
  }
 },
 "nbformat": 4,
 "nbformat_minor": 0
}
